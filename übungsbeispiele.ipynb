{
 "cells": [
  {
   "cell_type": "markdown",
   "metadata": {},
   "source": [
    "3. Schreiben Sie eine Funktion welche basierend auf dem Alter und der\n",
    "Entfernung den Preis f ̈ur ein SBB Billet berechnet:\n",
    "\n",
    "• jedes Ticket verf ̈ugt  ̈uber einen Grundpreis von 2 CHF, der un-\n",
    "abh ̈angig von der Entfernung berechnet wird.\n",
    "\n",
    "• zus ̈atzliche werden 0.25 CHF / km berechnet.\n",
    "• Kinder unter 16 Jahren zahlen den halben Preis.\n",
    "• Kinder unter 6 Jahren reisen kostenlos."
   ]
  },
  {
   "cell_type": "code",
   "execution_count": 2,
   "metadata": {},
   "outputs": [
    {
     "name": "stdout",
     "output_type": "stream",
     "text": [
      "52.0\n"
     ]
    }
   ],
   "source": [
    "entfernung = int(input(\"entfernung?\"))\n",
    "alter = int(input(\"alter?\"))\n",
    "def billetpreis(alter, entferntung):\n",
    "    if alter < 6:\n",
    "        return 0\n",
    "    elif alter < 16:\n",
    "        return(2 + (0.25*entfernung))/2\n",
    "    else:\n",
    "        return 2 + (0.25*entfernung)\n",
    "print(billetpreis(alter, entfernung))\n",
    "\n"
   ]
  },
  {
   "cell_type": "markdown",
   "metadata": {},
   "source": [
    "5. Fanken runden*: Schreiben Sie eine Funktion, welche einen Rechnungs-\n",
    "betrag auf 5 Rappen rundet:\n",
    "\n",
    ">>>franken_runden(12.21)\n",
    "12.20\n",
    ">>>franken_runden(8.98)\n",
    "9.00"
   ]
  },
  {
   "cell_type": "code",
   "execution_count": 3,
   "metadata": {},
   "outputs": [
    {
     "data": {
      "text/plain": [
       "4.65"
      ]
     },
     "execution_count": 3,
     "metadata": {},
     "output_type": "execute_result"
    }
   ],
   "source": [
    "def round_to_nearest_0_05(number):\n",
    "    return round(number * 20) / 20\n",
    "round_to_nearest_0_05(4.654)"
   ]
  },
  {
   "cell_type": "markdown",
   "metadata": {},
   "source": [
    "Countdown: Schreiben Sie ein Programm, das eine Zahl entgegen-\n",
    "nimmt und von dieser bis 0 z ̈ahlt. Anstelle von 0 soll der Text Zero\n",
    "\n",
    "ausgegeben werden.\n",
    "Countdown - von welcher Zahl soll ich weg z ̈ahlen? 5\n",
    "5\n",
    "4\n",
    "3\n",
    "2\n",
    "1\n",
    "Zero"
   ]
  },
  {
   "cell_type": "code",
   "execution_count": 4,
   "metadata": {},
   "outputs": [
    {
     "name": "stdout",
     "output_type": "stream",
     "text": [
      "6\n",
      "5\n",
      "4\n",
      "3\n",
      "2\n",
      "1\n",
      "zero\n"
     ]
    }
   ],
   "source": [
    "zahl = int(input(\"zahl?\"))\n",
    "while zahl > 0:\n",
    "    print(zahl)\n",
    "    zahl -= 1\n",
    "print(\"zero\")"
   ]
  },
  {
   "cell_type": "markdown",
   "metadata": {},
   "source": [
    "fibonaci bis zu limit"
   ]
  },
  {
   "cell_type": "code",
   "execution_count": 14,
   "metadata": {},
   "outputs": [
    {
     "name": "stdout",
     "output_type": "stream",
     "text": [
      "0\n",
      "1\n",
      "1\n",
      "2\n",
      "3\n",
      "5\n",
      "8\n",
      "13\n",
      "21\n",
      "34\n",
      "55\n",
      "89\n",
      "144\n",
      "233\n"
     ]
    }
   ],
   "source": [
    "limit = 340\n",
    "erstezahl = 0\n",
    "zwweitezahl = 1\n",
    "resultat = 0\n",
    "while resultat < limit:\n",
    "    print(resultat)\n",
    "    resultat = erstezahl + zwweitezahl\n",
    "    zwweitezahl = erstezahl\n",
    "    erstezahl = resultat"
   ]
  }
 ],
 "metadata": {
  "kernelspec": {
   "display_name": "Python 3",
   "language": "python",
   "name": "python3"
  },
  "language_info": {
   "codemirror_mode": {
    "name": "ipython",
    "version": 3
   },
   "file_extension": ".py",
   "mimetype": "text/x-python",
   "name": "python",
   "nbconvert_exporter": "python",
   "pygments_lexer": "ipython3",
   "version": "3.11.5"
  }
 },
 "nbformat": 4,
 "nbformat_minor": 2
}
