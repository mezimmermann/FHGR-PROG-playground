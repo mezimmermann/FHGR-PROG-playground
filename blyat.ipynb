{
 "cells": [
  {
   "cell_type": "code",
   "execution_count": null,
   "metadata": {},
   "outputs": [],
   "source": [
    "print (\"hello world\")"
   ]
  },
  {
   "cell_type": "code",
   "execution_count": null,
   "metadata": {},
   "outputs": [],
   "source": [
    "user_name = input(\"Wie heisst du?:\")\n",
    "age = int(input(\"Wie alt bist/wirst du dieses Jahr?:\"))\n",
    "prompt = int(input(\"Wie oft soll deine Nachricht ausgegeben werden?:\"))\n",
    "\n",
    "def year100(age):\n",
    "  year = 2023 + (100 - age)\n",
    "  return year\n",
    "\n",
    "year = year100(age)\n",
    "\n",
    "for i in range(prompt):\n",
    "  print(user_name + \", du wirst im Jahre \" + str(year) + \" 100 Jahre alt\")"
   ]
  },
  {
   "cell_type": "code",
   "execution_count": null,
   "metadata": {},
   "outputs": [],
   "source": [
    "satz = \"Hallo ich bin Lukas und habe ein neue Fahrrad\"\n",
    "res = len(satz.split())\n",
    "print (str(res))"
   ]
  },
  {
   "cell_type": "code",
   "execution_count": null,
   "metadata": {},
   "outputs": [],
   "source": [
    "satz = \"Hallo ich bin Lukas und habe ein neue Fahrrad. Hallo ich bin Lukas und habe ein neue Fahrrad. Hallo ich bin Lukas und habe ein neue Fahrrad.\"\n",
    "res = len(satz.split(\". \"))\n",
    "print (str(res))"
   ]
  },
  {
   "cell_type": "code",
   "execution_count": 1,
   "metadata": {},
   "outputs": [
    {
     "name": "stdout",
     "output_type": "stream",
     "text": [
      "4\n"
     ]
    }
   ],
   "source": [
    "str_inp = \"noa vivien noa men men melina\"\n",
    "list_inp = str_inp.split()\n",
    "set_res = len(set(list_inp))\n",
    "print(str(set_res))\n"
   ]
  },
  {
   "cell_type": "code",
   "execution_count": 5,
   "metadata": {},
   "outputs": [
    {
     "name": "stdout",
     "output_type": "stream",
     "text": [
      "9\n"
     ]
    }
   ],
   "source": [
    "str_inp = \"noa vivien noa men men melina\"\n",
    "list_inp = list(str_inp)\n",
    "set_res = len(set(list_inp))\n",
    "\n",
    "print(str(set_res))"
   ]
  },
  {
   "cell_type": "code",
   "execution_count": null,
   "metadata": {},
   "outputs": [],
   "source": [
    "kaffee_preis = 1.50\n",
    "guthaben = float(input(\"Wie viel Geld hast du?\"))\n",
    "print(\"Ok, du hast:\", guthaben)\n",
    "if guthaben >= kaffee_preis:\n",
    "    print(\"Du bekommst einen Kaffee! :)\")\n",
    "    neues_guthaben = guthaben - kaffee_preis\n",
    "    print(\"Du hast noch\", neues_guthaben)\n",
    "else:\n",
    "    print (\"Schade, du bekommst keinen Kaffee :(\", guthaben, \"ist zu wenig. Der Kaffee kostet:\", kaffee_preis)\n",
    "print(\"Ende\")"
   ]
  },
  {
   "cell_type": "code",
   "execution_count": null,
   "metadata": {},
   "outputs": [],
   "source": []
  }
 ],
 "metadata": {
  "kernelspec": {
   "display_name": "Python 3",
   "language": "python",
   "name": "python3"
  },
  "language_info": {
   "codemirror_mode": {
    "name": "ipython",
    "version": 3
   },
   "file_extension": ".py",
   "mimetype": "text/x-python",
   "name": "python",
   "nbconvert_exporter": "python",
   "pygments_lexer": "ipython3",
   "version": "3.11.5"
  }
 },
 "nbformat": 4,
 "nbformat_minor": 2
}
