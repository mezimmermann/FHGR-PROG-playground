{
 "cells": [
  {
   "cell_type": "code",
   "execution_count": null,
   "metadata": {},
   "outputs": [],
   "source": [
    "user_name = input(\"Wie heisst du?:\")\n",
    "age = int(input(\"Wie alt bist/wirst du dieses Jahr?:\"))\n",
    "prompt = int(input(\"Wie oft soll deine Nachricht ausgegeben werden?:\"))\n",
    "\n",
    "def year100(age):\n",
    "  year = 2023 + (100 - age)\n",
    "  return year\n",
    "\n",
    "year = year100(age)\n",
    "\n",
    "for i in range(prompt):\n",
    "  print(user_name + \", du wirst im Jahre \" + str(year) + \" 100 Jahre alt\")"
   ]
  },
  {
   "cell_type": "code",
   "execution_count": null,
   "metadata": {},
   "outputs": [],
   "source": [
    "satz = \"Hallo ich bin Lukas und habe ein neues Fahrrad\"\n",
    "res = len(satz.split())\n",
    "print (str(res))"
   ]
  },
  {
   "cell_type": "code",
   "execution_count": null,
   "metadata": {},
   "outputs": [],
   "source": [
    "satz = \"Hallo ich bin Lukas und habe ein neue Fahrrad. Hallo ich bin Lukas und habe ein neue Fahrrad. Hallo ich bin Lukas und habe ein neue Fahrrad.\"\n",
    "res = len(satz.split(\". \"))\n",
    "print (str(res))"
   ]
  },
  {
   "cell_type": "code",
   "execution_count": null,
   "metadata": {},
   "outputs": [],
   "source": [
    "str_inp = \"noa vivien noa men men melina\"\n",
    "list_inp = str_inp.split()\n",
    "set_res = len(set(list_inp))\n",
    "print(str(set_res))\n"
   ]
  },
  {
   "cell_type": "code",
   "execution_count": null,
   "metadata": {},
   "outputs": [],
   "source": [
    "str_inp = \"noa vivien noa men men melina\"\n",
    "list_inp = list(str_inp)\n",
    "set_res = len(set(list_inp))\n",
    "\n",
    "print(str(set_res))"
   ]
  },
  {
   "cell_type": "code",
   "execution_count": null,
   "metadata": {},
   "outputs": [],
   "source": [
    "kaffee_preis = 1.50\n",
    "guthaben = float(input(\"Wie viel Geld hast du?\"))\n",
    "print(\"Ok, du hast:\", guthaben)\n",
    "if guthaben >= kaffee_preis:\n",
    "    print(\"Du bekommst einen Kaffee! :)\")\n",
    "    neues_guthaben = guthaben - kaffee_preis\n",
    "    print(\"Du hast noch\", neues_guthaben)\n",
    "else:\n",
    "    print (\"Schade, du bekommst keinen Kaffee :(\", guthaben, \"ist zu wenig. Der Kaffee kostet:\", kaffee_preis)\n",
    "print(\"Ende\")"
   ]
  },
  {
   "cell_type": "code",
   "execution_count": null,
   "metadata": {},
   "outputs": [],
   "source": [
    "mystery_number = 42\n",
    "user_number = int(input(\"Gib eine Zahl ein:\"))\n",
    "if user_number == mystery_number:\n",
    "    print(\"Du hast gewonnen!\")\n",
    "else:\n",
    "    print(\"Leider verloren!\")\n"
   ]
  },
  {
   "cell_type": "code",
   "execution_count": null,
   "metadata": {},
   "outputs": [],
   "source": [
    "mystery_number = 42\n",
    "user_number = int(input(\"Gib eine Zahl ein:\"))\n",
    "while user_number != mystery_number:\n",
    "    print(\"Leider verloren!\")\n",
    "    user_number = int(input(\"Gib eine Zahl ein:\"))\n",
    "print(\"Du hast gewonnen!\")"
   ]
  },
  {
   "cell_type": "code",
   "execution_count": null,
   "metadata": {},
   "outputs": [],
   "source": [
    "mystery_number = 42\n",
    "user_number = int(input(\"Gib eine Zahl ein:\"))\n",
    "while user_number != mystery_number:\n",
    "    if user_number > mystery_number:\n",
    "        print(\"Zu gross!\")\n",
    "    else:\n",
    "        print(\"Zu klein!\")\n",
    "    user_number = int(input(\"Gib eine Zahl ein:\"))\n",
    "print(\"Du hast gewonnen!\")"
   ]
  },
  {
   "cell_type": "code",
   "execution_count": null,
   "metadata": {},
   "outputs": [],
   "source": [
    "secret_number = 42\n",
    "user_number = int(input(\"Gib eine Zahl ein die erraten werden soll:\"))\n",
    "if secret_number > user_number:\n",
    "    print(\"Die geheime Zahl ist grösser\")\n",
    "elif secret_number < user_number:\n",
    "    print(\"Die geheime Zahl ist kleiner\")\n",
    "else:\n",
    "    print(\"Richtig geraten!\")"
   ]
  },
  {
   "cell_type": "markdown",
   "metadata": {},
   "source": [
    "Navigate trough Dictionary key value pairs with []"
   ]
  },
  {
   "cell_type": "code",
   "execution_count": null,
   "metadata": {},
   "outputs": [],
   "source": [
    "preisliste = {\n",
    "    \"chailatte\": 4,\n",
    "    \"cappuchino\": 3,\n",
    "    \"kaffee\": 2,\n",
    "    \"wasser\": 1,\n",
    "}\n",
    "\n",
    "guthaben = float(input(\"Wirf Geld ein\"))\n",
    "if guthaben >= preisliste[\"chailatte\"]:\n",
    "    print(\"Du bekommst eine Chailatte\")\n",
    "elif guthaben >= preisliste[\"cappuchino\"]:\n",
    "    print(\"Du bekommst einen Cappuchino\")\n",
    "elif guthaben >= preisliste[\"kaffee\"]:\n",
    "    print(\"Du bekommst einen Kaffee\")\n",
    "else:\n",
    "    print(\"Du bekommst Wasser\")"
   ]
  },
  {
   "cell_type": "markdown",
   "metadata": {},
   "source": [
    "dictionary in for schleife durchgehen mit items (key value)"
   ]
  },
  {
   "cell_type": "code",
   "execution_count": null,
   "metadata": {},
   "outputs": [],
   "source": [
    "preisliste = {\n",
    "    \"chailatte\": 4,\n",
    "    \"cappuchino\": 3,\n",
    "    \"kaffee\": 2,\n",
    "    \"wasser\": 1,\n",
    "}\n",
    "guthaben = float(input(\"Wirf Geld ein\"))\n",
    "for produkt, preis  in preisliste.items():\n",
    "    if guthaben >= preis:\n",
    "        print(\"du bekommst ein\",produkt)\n",
    "        break"
   ]
  },
  {
   "cell_type": "markdown",
   "metadata": {},
   "source": [
    "verschachteltes for"
   ]
  },
  {
   "cell_type": "code",
   "execution_count": null,
   "metadata": {},
   "outputs": [],
   "source": [
    "wochentage = [\"Mo\",\"Di\",\"Mi\",\"Do\",\"Fr\",\"Sa\",\"So\"]\n",
    "for i in wochentage:\n",
    "    for stunden in range(24):\n",
    "        for minuten in range(60):\n",
    "            for sekunden in range(60):\n",
    "                print(i,stunden,minuten,sekunden)"
   ]
  },
  {
   "cell_type": "markdown",
   "metadata": {},
   "source": [
    "liste summieren mit for"
   ]
  },
  {
   "cell_type": "code",
   "execution_count": 61,
   "metadata": {},
   "outputs": [
    {
     "name": "stdout",
     "output_type": "stream",
     "text": [
      "185\n"
     ]
    }
   ],
   "source": [
    "summe = 0\n",
    "liste = [2,45,6,4,32,4,6,78,8,]\n",
    "for i in liste:\n",
    "    summe = summe + i\n",
    "print (summe)"
   ]
  }
 ],
 "metadata": {
  "kernelspec": {
   "display_name": "Python 3",
   "language": "python",
   "name": "python3"
  },
  "language_info": {
   "codemirror_mode": {
    "name": "ipython",
    "version": 3
   },
   "file_extension": ".py",
   "mimetype": "text/x-python",
   "name": "python",
   "nbconvert_exporter": "python",
   "pygments_lexer": "ipython3",
   "version": "3.11.5"
  }
 },
 "nbformat": 4,
 "nbformat_minor": 2
}
