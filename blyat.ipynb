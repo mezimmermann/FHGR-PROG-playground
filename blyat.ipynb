{
 "cells": [
  {
   "cell_type": "code",
   "execution_count": null,
   "metadata": {},
   "outputs": [],
   "source": [
    "user_name = input(\"Wie heisst du?:\")\n",
    "age = int(input(\"Wie alt bist/wirst du dieses Jahr?:\"))\n",
    "prompt = int(input(\"Wie oft soll deine Nachricht ausgegeben werden?:\"))\n",
    "\n",
    "def year100(age):\n",
    "  year = 2023 + (100 - age)\n",
    "  return year\n",
    "\n",
    "year = year100(age)\n",
    "\n",
    "for i in range(prompt):\n",
    "  print(user_name + \", du wirst im Jahre \" + str(year) + \" 100 Jahre alt\")"
   ]
  },
  {
   "cell_type": "code",
   "execution_count": null,
   "metadata": {},
   "outputs": [],
   "source": [
    "satz = \"Hallo ich bin Lukas und habe ein neues Fahrrad\"\n",
    "res = len(satz.split())\n",
    "print (str(res))"
   ]
  },
  {
   "cell_type": "code",
   "execution_count": null,
   "metadata": {},
   "outputs": [],
   "source": [
    "satz = \"Hallo ich bin Lukas und habe ein neue Fahrrad. Hallo ich bin Lukas und habe ein neue Fahrrad. Hallo ich bin Lukas und habe ein neue Fahrrad.\"\n",
    "res = len(satz.split(\". \"))\n",
    "print (str(res))"
   ]
  },
  {
   "cell_type": "code",
   "execution_count": null,
   "metadata": {},
   "outputs": [],
   "source": [
    "str_inp = \"noa vivien noa men men melina\"\n",
    "list_inp = str_inp.split()\n",
    "set_res = len(set(list_inp))\n",
    "print(str(set_res))\n"
   ]
  },
  {
   "cell_type": "code",
   "execution_count": null,
   "metadata": {},
   "outputs": [],
   "source": [
    "str_inp = \"noa vivien noa men men melina\"\n",
    "list_inp = list(str_inp)\n",
    "set_res = len(set(list_inp))\n",
    "\n",
    "print(str(set_res))"
   ]
  },
  {
   "cell_type": "code",
   "execution_count": null,
   "metadata": {},
   "outputs": [],
   "source": [
    "kaffee_preis = 1.50\n",
    "guthaben = float(input(\"Wie viel Geld hast du?\"))\n",
    "print(\"Ok, du hast:\", guthaben)\n",
    "if guthaben >= kaffee_preis:\n",
    "    print(\"Du bekommst einen Kaffee! :)\")\n",
    "    neues_guthaben = guthaben - kaffee_preis\n",
    "    print(\"Du hast noch\", neues_guthaben)\n",
    "else:\n",
    "    print (\"Schade, du bekommst keinen Kaffee :(\", guthaben, \"ist zu wenig. Der Kaffee kostet:\", kaffee_preis)\n",
    "print(\"Ende\")"
   ]
  },
  {
   "cell_type": "code",
   "execution_count": null,
   "metadata": {},
   "outputs": [],
   "source": [
    "mystery_number = 42\n",
    "user_number = int(input(\"Gib eine Zahl ein:\"))\n",
    "if user_number == mystery_number:\n",
    "    print(\"Du hast gewonnen!\")\n",
    "else:\n",
    "    print(\"Leider verloren!\")\n"
   ]
  },
  {
   "cell_type": "code",
   "execution_count": null,
   "metadata": {},
   "outputs": [],
   "source": [
    "mystery_number = 42\n",
    "user_number = int(input(\"Gib eine Zahl ein:\"))\n",
    "while user_number != mystery_number:\n",
    "    print(\"Leider verloren!\")\n",
    "    user_number = int(input(\"Gib eine Zahl ein:\"))\n",
    "print(\"Du hast gewonnen!\")"
   ]
  },
  {
   "cell_type": "code",
   "execution_count": null,
   "metadata": {},
   "outputs": [],
   "source": [
    "mystery_number = 42\n",
    "user_number = int(input(\"Gib eine Zahl ein:\"))\n",
    "while user_number != mystery_number:\n",
    "    if user_number > mystery_number:\n",
    "        print(\"Zu gross!\")\n",
    "    else:\n",
    "        print(\"Zu klein!\")\n",
    "    user_number = int(input(\"Gib eine Zahl ein:\"))\n",
    "print(\"Du hast gewonnen!\")"
   ]
  },
  {
   "cell_type": "code",
   "execution_count": null,
   "metadata": {},
   "outputs": [],
   "source": [
    "secret_number = 42\n",
    "user_number = int(input(\"Gib eine Zahl ein die erraten werden soll:\"))\n",
    "if secret_number > user_number:\n",
    "    print(\"Die geheime Zahl ist grösser\")\n",
    "elif secret_number < user_number:\n",
    "    print(\"Die geheime Zahl ist kleiner\")\n",
    "else:\n",
    "    print(\"Richtig geraten!\")"
   ]
  },
  {
   "cell_type": "markdown",
   "metadata": {},
   "source": [
    "Navigate trough Dictionary key value pairs with []"
   ]
  },
  {
   "cell_type": "code",
   "execution_count": null,
   "metadata": {},
   "outputs": [],
   "source": [
    "preisliste = {\n",
    "    \"chailatte\": 4,\n",
    "    \"cappuchino\": 3,\n",
    "    \"kaffee\": 2,\n",
    "    \"wasser\": 1,\n",
    "}\n",
    "\n",
    "guthaben = float(input(\"Wirf Geld ein\"))\n",
    "if guthaben >= preisliste[\"chailatte\"]:\n",
    "    print(\"Du bekommst eine Chailatte\")\n",
    "elif guthaben >= preisliste[\"cappuchino\"]:\n",
    "    print(\"Du bekommst einen Cappuchino\")\n",
    "elif guthaben >= preisliste[\"kaffee\"]:\n",
    "    print(\"Du bekommst einen Kaffee\")\n",
    "else:\n",
    "    print(\"Du bekommst Wasser\")"
   ]
  },
  {
   "cell_type": "markdown",
   "metadata": {},
   "source": [
    "dictionary in for schleife durchgehen mit items (key value)"
   ]
  },
  {
   "cell_type": "code",
   "execution_count": null,
   "metadata": {},
   "outputs": [],
   "source": [
    "preisliste = {\n",
    "    \"chailatte\": 4,\n",
    "    \"cappuchino\": 3,\n",
    "    \"kaffee\": 2,\n",
    "    \"wasser\": 1,\n",
    "}\n",
    "guthaben = float(input(\"Wirf Geld ein\"))\n",
    "for produkt, preis  in preisliste.items():\n",
    "    if guthaben >= preis:\n",
    "        print(\"du bekommst ein\",produkt)\n",
    "        break"
   ]
  },
  {
   "cell_type": "markdown",
   "metadata": {},
   "source": [
    "verschachteltes for"
   ]
  },
  {
   "cell_type": "code",
   "execution_count": null,
   "metadata": {},
   "outputs": [],
   "source": [
    "wochentage = [\"Mo\",\"Di\",\"Mi\",\"Do\",\"Fr\",\"Sa\",\"So\"]\n",
    "for i in wochentage:\n",
    "    for stunden in range(24):\n",
    "        for minuten in range(60):\n",
    "            for sekunden in range(60):\n",
    "                print(i,stunden,minuten,sekunden)"
   ]
  },
  {
   "cell_type": "markdown",
   "metadata": {},
   "source": [
    "liste summieren mit for"
   ]
  },
  {
   "cell_type": "code",
   "execution_count": null,
   "metadata": {},
   "outputs": [],
   "source": [
    "summe = 0\n",
    "liste = [2,45,6,4,32,4,6,78,8,]\n",
    "for i in liste:\n",
    "    summe = summe + i\n",
    "print (summe)"
   ]
  },
  {
   "cell_type": "code",
   "execution_count": null,
   "metadata": {},
   "outputs": [],
   "source": [
    "haufen = {}\n",
    "\n",
    "sugus_sack = [\"Kirsche\", \"Orange\", \"Zitrone\", \"Himbeer\", \"Apfel\", \"Orange\"]\n",
    "\n",
    "for sugus in sugus_sack:\n",
    "    if sugus not in haufen:\n",
    "        haufen[sugus] = 0\n",
    "    haufen[sugus] += 1\n",
    "\n",
    "print(haufen)"
   ]
  },
  {
   "cell_type": "code",
   "execution_count": null,
   "metadata": {},
   "outputs": [],
   "source": [
    "produkte = {\n",
    "    \"Apfel\": 1,\n",
    "    \"Banane\": 2,\n",
    "    \"Brot\": 3,\n",
    "}\n",
    "\n",
    "summe = 0\n",
    "preis =  input(\"Produkt: \")\n",
    "while eingabe != \"stop\":\n",
    "    summe = summe + float(eignabe)\n",
    "    preis = input(\"Produkt: \")\n",
    "\n",
    "print(summe)\n",
    "\"\"\"\n",
    "eingabe = input(\"Produkt: \")\n",
    "if eingabe == \"Apfel\":\n",
    "    preis = 1\n",
    "elif eingabe == \"Banane\":\n",
    "    preis = 2\n",
    "elif eingabe == \"Brot\":\n",
    "    preis = 3\n",
    "summe += preis # summe = summe + preis\n",
    "\"\"\""
   ]
  },
  {
   "cell_type": "markdown",
   "metadata": {},
   "source": [
    "Übung Telefonbuch\n",
    "a) Telefonbuch mit Dictionaries, Speichern von Name und Nummer, Datenstruktur soll mehrere Einträge zulassen\n",
    "b) Datenstruktur erweitern, sodass auch strasse haus stadt und plz gespeichert werden kann.\n",
    "c) Programm soll nach Namen Fragen und Datensatz zurückgeben\n",
    "d) Same nur erst nach namen dann nach Feld Fragen, bevor dies ausgegeben wird."
   ]
  },
  {
   "cell_type": "code",
   "execution_count": null,
   "metadata": {},
   "outputs": [],
   "source": [
    "adressbuch = {\n",
    "    \"Hans\": {\n",
    "        \"Nachname\": \"Müller\",\n",
    "        \"Nummer\": \"078\",\n",
    "        \"Strasse\": \"Hauptstrasse\",\n",
    "        \"Nummer\": \"1\",\n",
    "        \"PLZ\": \"7000\"\n",
    "    },\n",
    "    \"Jakob\": {\n",
    "        \"Nachname\": \"Hill\",\n",
    "        \"Nummer\": \"079\",\n",
    "        \"Strasse\": \"Bahnhofstrasse\",\n",
    "        \"Nummer\": \"2\",\n",
    "        \"PLZ\": \"8000\"\n",
    "    },\n",
    "    \"Andrea\": {\n",
    "        \"Nachname\": \"Kunz\",\n",
    "        \"Nummer\": \"0710\",\n",
    "        \"Strasse\": \"Platz\",\n",
    "        \"Nummer\": \"3\",\n",
    "        \"PLZ\": \"9000\"\n",
    "    },\n",
    "}\n",
    "\n",
    "def browse(name, feld):\n",
    "    trefferFeld = adressbuch[name][feld]\n",
    "    print(\"Es gab einen Treffer für den eingegebenen Namen \" + name + \". Der Inhalt des gewünschten Feldes \" + feld + \" ist: \" + trefferFeld)\n",
    "\n",
    "name = input(\"Gib den Vornamen an\")\n",
    "feld = input(\"Gib das gewünschte Feld an\")\n",
    "browse(name, feld)\n"
   ]
  },
  {
   "cell_type": "code",
   "execution_count": null,
   "metadata": {},
   "outputs": [],
   "source": [
    "adressbuch = {\n",
    "    \"Hans\": {\n",
    "        \"Nachname\": \"Müller\",\n",
    "        \"Nummer\": \"078\",\n",
    "        \"Strasse\": \"Hauptstrasse\",\n",
    "        \"Nummer\": \"1\",\n",
    "        \"PLZ\": \"7000\"\n",
    "    },\n",
    "    \"Jakob\": {\n",
    "        \"Nachname\": \"Hill\",\n",
    "        \"Nummer\": \"079\",\n",
    "        \"Strasse\": \"Bahnhofstrasse\",\n",
    "        \"Nummer\": \"2\",\n",
    "        \"PLZ\": \"8000\"\n",
    "    },\n",
    "    \"Andrea\": {\n",
    "        \"Nachname\": \"Kunz\",\n",
    "        \"Nummer\": \"0710\",\n",
    "        \"Strasse\": \"Platz\",\n",
    "        \"Nummer\": \"3\",\n",
    "        \"PLZ\": \"9000\"\n",
    "    },\n",
    "}\n",
    "\n",
    "def browse(name):\n",
    "    if name in adressbuch:\n",
    "        entscheid = input(\"Treffer! Möchtest du den ganzen Datensatz, oder nur einzelne Felder einsehen? (y/n)\")\n",
    "        if entscheid == \"y\":\n",
    "            for key, value in adressbuch[name].items():\n",
    "                print(key, value)\n",
    "        else:\n",
    "            feld = input(\"Gib das gewünschte Feld an\")\n",
    "            trefferFeld = adressbuch[name][feld]\n",
    "            print(\"Es gab einen Treffer für den eingegebenen Namen \" + name + \". Der Inhalt des gewünschten Feldes \" + feld + \" ist: \" + trefferFeld)\n",
    "    else:\n",
    "        print(\"Es gab keinen Treffer\")\n",
    "    return\n",
    "name = input(\"Dies ist dein Telefonbuch, Gib den Vornamen an\")\n",
    "browse(name)"
   ]
  },
  {
   "cell_type": "markdown",
   "metadata": {},
   "source": [
    "Prüfungsaufgabe 1:\n",
    "\n",
    "Die Funktion sollte mittels input() die Auswahl des Users entgegennehmen\n",
    "\n",
    "Beispiel bestellung2, schweiz)\n",
    "Welche Farbe soll die Badeente haben?\n",
    "0 gelb für 5 franken\n",
    "1 grün für 7 franken\n",
    "2 pink für 9 franken\n",
    "Benutzereingabe: 1\n",
    "14\n"
   ]
  },
  {
   "cell_type": "code",
   "execution_count": null,
   "metadata": {},
   "outputs": [],
   "source": [
    "preisliste = {\n",
    "    \"gelb\": 5,\n",
    "    \"grün\": 7,\n",
    "    \"pink\": 9\n",
    "    }\n",
    "allefarben = ', '.join(preisliste.keys())\n",
    "\n",
    "def bestellung(anzahl, farbe):\n",
    "    preis = preisliste[farbe]\n",
    "    total = int(anzahl) * int(preis)\n",
    "    print(\"Das Total für\", anzahl, \"Enten ist CHF\", total)\n",
    "\n",
    "anzahl= input(\"Wie viele Enten möchten Sie?\")\n",
    "farbe = input(\"Welche Farbe möchten Sie? Es gibt folgende: \" + allefarben)\n",
    "\n",
    "bestellung(anzahl,farbe)\n",
    "\n"
   ]
  },
  {
   "cell_type": "code",
   "execution_count": null,
   "metadata": {},
   "outputs": [],
   "source": [
    "import random\n",
    "\n",
    "zufallszahl = random.randint(1,10)\n",
    "zufallszahl = str(zufallszahl)\n",
    "falsche_versuche = 0\n",
    "\n",
    "while True:\n",
    "    user_zahl = input(\"Wähle eine Zahl: \")\n",
    "\n",
    "    if zufallszahl == user_zahl:\n",
    "        print(\"Korrekt!\")\n",
    "        break\n",
    "    else:\n",
    "        faslche_versuche =+ 1\n",
    "        if user_zahl < zufallszahl:\n",
    "            print(\"Die Zahl ist grösser.\")\n",
    "        else:\n",
    "            print(\"Die Zahl ist kleiner.\")\n",
    "\n",
    "print(f\"Du hast {falsche_versuche} Mal falsch geraten.\")"
   ]
  }
 ],
 "metadata": {
  "kernelspec": {
   "display_name": "Python 3",
   "language": "python",
   "name": "python3"
  },
  "language_info": {
   "codemirror_mode": {
    "name": "ipython",
    "version": 3
   },
   "file_extension": ".py",
   "mimetype": "text/x-python",
   "name": "python",
   "nbconvert_exporter": "python",
   "pygments_lexer": "ipython3",
   "version": "3.11.5"
  }
 },
 "nbformat": 4,
 "nbformat_minor": 2
}
