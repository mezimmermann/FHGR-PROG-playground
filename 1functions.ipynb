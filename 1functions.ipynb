{
 "cells": [
  {
   "cell_type": "markdown",
   "metadata": {},
   "source": [
    "Übung 1 Schreiben Sie eine Funktion, welche die Seitenlänge eines gleichseitigen Dreiecks entgegennimmt und den Umfang des Dreiecks berechnet."
   ]
  },
  {
   "cell_type": "code",
   "execution_count": null,
   "metadata": {},
   "outputs": [],
   "source": [
    "def dreiecksumfang(side):\n",
    "    umfang = side * 3\n",
    "    return umfang\n",
    "\n",
    "side = int(input(\"Wie lang ist eine Seitenlänge?\"))\n",
    "print(\"Der Umfang des Dreiecks ist \"+str(dreiecksumfang(side)))"
   ]
  },
  {
   "cell_type": "markdown",
   "metadata": {},
   "source": [
    "Übung 2 Schreiben Sie eine Funktion, welche das Alter einer Person entgegen nimmt und daraus die theoretische maximale Herzfrequenz berechnet."
   ]
  },
  {
   "cell_type": "code",
   "execution_count": null,
   "metadata": {},
   "outputs": [],
   "source": [
    "def max_HF(age):\n",
    "    max = 220-age\n",
    "    return max\n",
    "age = int(input(\"wie alt bist du?\"))\n",
    "print(\"max HF \"+str(max_HF(age)))"
   ]
  },
  {
   "cell_type": "markdown",
   "metadata": {},
   "source": [
    "Übung 3 Schreiben Sie eine Funktion ausgabe1000(), die 1000 mal den Satz \"Heute scheint die Sonne\" ausgibt!"
   ]
  },
  {
   "cell_type": "code",
   "execution_count": null,
   "metadata": {},
   "outputs": [],
   "source": [
    "def eintausendmal(satz):\n",
    "    for i in range(1000):\n",
    "        print(satz)\n",
    "satz = input(\"Satz?\")\n",
    "eintausendmal(satz)"
   ]
  },
  {
   "cell_type": "markdown",
   "metadata": {},
   "source": [
    "Übung 4 a) Schreiben Sie ein Programm, dass nach dem Namen und dem Alter der Person fragt und dann in einer personalisierten Mitteilung der Person mitteilt, in welchem Jahr sie 100 Jahre alt wird."
   ]
  },
  {
   "cell_type": "code",
   "execution_count": null,
   "metadata": {},
   "outputs": [],
   "source": [
    "import datetime\n",
    "def wann100(age , name):\n",
    "    today = datetime.date.today()\n",
    "    year = today.year\n",
    "    result =  year + (100-int(age))\n",
    "    print(\"Hi \"+str(name)+\" du wirst im Jahre \"+str(result)+\" Jahre alt sein.\")\n",
    "\n",
    "name = input(\"Name?\")\n",
    "age = input(\"Alter?\")\n",
    "wann100 (age , name)"
   ]
  },
  {
   "cell_type": "markdown",
   "metadata": {},
   "source": [
    "Übung 4 b) Erweitern Sie das Programm in dem Sie den Benutzer um eine zusätzliche Zahl bitten die die Anzahl der Ausgaben der Nachricht definiert."
   ]
  },
  {
   "cell_type": "code",
   "execution_count": 1,
   "metadata": {},
   "outputs": [
    {
     "name": "stdout",
     "output_type": "stream",
     "text": [
      "Hi noa du wirst im Jahre 2112 Jahre alt sein.\n",
      "Hi noa du wirst im Jahre 2112 Jahre alt sein.\n",
      "Hi noa du wirst im Jahre 2112 Jahre alt sein.\n"
     ]
    }
   ],
   "source": [
    "import datetime\n",
    "def wann100(age , name, repeat):\n",
    "    today = datetime.date.today()\n",
    "    year = today.year\n",
    "    result =  year + (100-int(age))\n",
    "    for i in range(int(repeat)):\n",
    "        print(\"Hi \"+str(name)+\" du wirst im Jahre \"+str(result)+\" Jahre alt sein.\")\n",
    "\n",
    "name = input(\"Name?\")\n",
    "age = input(\"Alter?\")\n",
    "repeat = input(\"Wie oft soll das aufgegeben werden?\")\n",
    "wann100 (age , name, repeat)"
   ]
  },
  {
   "cell_type": "markdown",
   "metadata": {},
   "source": [
    "Übung 5: Fragen Sie den Benutzer nach einer Zahl. Geben Sie dann zurück, ob diese Zahl gerade oder ungerade ist."
   ]
  },
  {
   "cell_type": "code",
   "execution_count": null,
   "metadata": {},
   "outputs": [],
   "source": [
    "def check(number):\n",
    "    if (number % 2) == 0: #Modulo is the remainder of a division, when dividing by 2, odd numbers do have a reminder other than 0\n",
    "        print(\"Nummer \"+str(number)+\" ist gerade\")\n",
    "    else:\n",
    "        print(\"Nummer \"+str(number)+\" ist ungerade\")\n",
    "number = int(input(\"Gib eine nummer ein\"))\n",
    "check(number)"
   ]
  }
 ],
 "metadata": {
  "kernelspec": {
   "display_name": "Python 3",
   "language": "python",
   "name": "python3"
  },
  "language_info": {
   "codemirror_mode": {
    "name": "ipython",
    "version": 3
   },
   "file_extension": ".py",
   "mimetype": "text/x-python",
   "name": "python",
   "nbconvert_exporter": "python",
   "pygments_lexer": "ipython3",
   "version": "3.11.5"
  }
 },
 "nbformat": 4,
 "nbformat_minor": 2
}
