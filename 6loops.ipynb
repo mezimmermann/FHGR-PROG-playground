{
 "cells": [
  {
   "cell_type": "markdown",
   "metadata": {},
   "source": [
    "Übung 3.1\n",
    "Schreiben Sie ein Programm, bei dem Städte und deren\n",
    "Einwohnerzahlen eingegeben werden können. Wenn der Benutzer bei einer Stadt ein „x“ eingibt, wird die Eingabe gestoppt.\n",
    "Bsp.:\n",
    "Geben Sie die Stadt ein: Zürich\n",
    "Geben Sie die zugehörige Einwohnerzahl ein: 370000 Geben Sie die Stadt ein: Bern\n",
    "Geben Sie die zugehörige Einwohnerzahl ein: 130000 Geben Sie die Stadt ein: x\n",
    "Während der Eingabe soll im Programm eine Liste (list) erzeugt werden, wie die in der ad hoc Übung 3.2 b). Bsp.: [[\"Zürich\", 370000], [\"Bern\", 130000]]\n",
    "Geben Sie die Liste am Ende des Programmes alphabetisch sortiert aus, d.h. einfache Ausgabe mit print(liste). Bsp.: [[\"Bern\", 130000], [\"Zürich\", 370000] ]"
   ]
  },
  {
   "cell_type": "code",
   "execution_count": null,
   "metadata": {},
   "outputs": [],
   "source": [
    "städte = []\n",
    "stadt = \"\"\n",
    "while True:\n",
    "    stadt = input(\"Bitte geben Sie eine Stadt ein: \")\n",
    "    if stadt == (\"x\",\"X\"):\n",
    "        break\n",
    "    einwohner = int(input(\"Bitte geben Sie die Einwohnerzahl ein: \"))\n",
    "    städte.append((stadt, einwohner))\n",
    "print(städte)\n",
    "for stadt, einwohner in städte:\n",
    "    print(stadt, einwohner)"
   ]
  },
  {
   "cell_type": "markdown",
   "metadata": {},
   "source": [
    "Übung 3.2\n",
    "Erstellen Sie mittels einem Dictionary (dict) ein Mini-Deutsch-Englisch Wörterbuch (10 Vokabeln). Ein zugehörige Vokabeltrainer soll alle Vokabeln nach folgendem Muster abfragen:\n",
    "Was heisst Haus: house\n",
    "RICHTIG!\n",
    "Was heisst Zahnarzt: dentist\n",
    "RICHTIG!\n",
    "Was heisst Zahn: dent\n",
    "FALSCH!\n",
    "...\n",
    "Nach Abfrage aller Vokabeln wird noch die Abfragestatistik ausgegeben: Sie haben 7 von 10 Vokabeln richtig beantwortet!\n",
    "Hinweis:\n",
    "•Ein- und Ausgabe soll jeweils über die Python-Shell erfolgen. •Dokumentieren Sie Ihre Programme mit Kommentarzeilen.\n",
    "•Es empfiehlt sich zuerst die Programme mittels einem Struktogramm zu konzipieren.\n",
    "•Bitte bei jeder Teilaufgabe eine Programmdatei mit \".py\"-Endung hochladen."
   ]
  },
  {
   "cell_type": "code",
   "execution_count": null,
   "metadata": {},
   "outputs": [],
   "source": [
    "punktzahl = 0\n",
    "fragen = 0\n",
    "vokabeln = {\"Hund\": \"dog\", \"Katze\": \"cat\", \"Maus\": \"mouse\"}\n",
    "for deutsch, enlisch in vokabeln.items():\n",
    "    antwort = input(\"Was heißt \" + deutsch + \" auf Englisch?\")\n",
    "    if antwort == enlisch:\n",
    "        print(\"Korrekt\")\n",
    "        punktzahl += 1\n",
    "        fragen += 1\n",
    "    else:\n",
    "        print(\"Falsch\")\n",
    "        fragen += 1\n",
    "print(\"ende, du hast\",punktzahl,\"/\",fragen,\"richtig gehabt, Gratuiere!\")"
   ]
  }
 ],
 "metadata": {
  "kernelspec": {
   "display_name": "Python 3",
   "language": "python",
   "name": "python3"
  },
  "language_info": {
   "codemirror_mode": {
    "name": "ipython",
    "version": 3
   },
   "file_extension": ".py",
   "mimetype": "text/x-python",
   "name": "python",
   "nbconvert_exporter": "python",
   "pygments_lexer": "ipython3",
   "version": "3.11.5"
  }
 },
 "nbformat": 4,
 "nbformat_minor": 2
}
