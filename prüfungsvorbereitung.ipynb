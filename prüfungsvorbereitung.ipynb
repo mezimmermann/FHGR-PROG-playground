{
 "cells": [
  {
   "cell_type": "markdown",
   "metadata": {},
   "source": [
    "Übung 1.1\n",
    "#########\n",
    "a) Schreiben Sie ein Programm, dass nach dem Namen und dem Alter der Person fragt und dann in\n",
    "einer personalisierten Mitteilung der Person mitteilt, in welchem Jahr sie 100 Jahre alt wird.\n",
    "Bsp:\n",
    "> Bitte gib deinen Namen ein.\n",
    "Fabian\n",
    "> Bitte gib dein Alter an.\n",
    "25\n",
    "> Fabian, du wirst im Jahre 2092 100 Jahre alt sein.\n",
    "b) Erweitern Sie das Programm in dem Sie den Benutzer um eine zusätzliche Zahl bitten die die\n",
    "Anzahl der Ausgaben der Nachricht definiert.\n",
    "Bsp:\n",
    "> Wie oft soll die Nachricht ausgegeben werden?\n",
    "3\n",
    "> Fabian, du wirst im Jahre 2092 100 Jahre alt sein. Fabian, du wirst im Jahre 2092 100 Jahre alt\n",
    "sein. Fabian, du wirst im Jahre 2092 100 Jahre alt sein.\n",
    "c) Geben Sie die wiederholenden Ausgaben in separaten Zeilen aus.\n",
    "Bsp:\n",
    "> Wie oft soll die Nachricht ausgegeben werden?\n",
    "3\n",
    "> Fabian, du wirst im Jahre 2092 100 Jahre alt sein.\n",
    "> Fabian, du wirst im Jahre 2092 100 Jahre alt sein.\n",
    "> Fabian, du wirst im Jahre 2092 100 Jahre alt sein."
   ]
  },
  {
   "cell_type": "code",
   "execution_count": null,
   "metadata": {},
   "outputs": [],
   "source": [
    "name = input(\"Name?\")\n",
    "alter = int(input(\"Alter?\"))\n",
    "printnr = int(input(\"Wie oft?\"))\n",
    "aktuellesjahr = 2024\n",
    "for i in range(printnr):\n",
    "    jahrwennhundert = aktuellesjahr + (100-alter)\n",
    "    print(name + \" du wirst im jahre\" + str(jahrwennhundert) + \"100 jahre sein\")"
   ]
  },
  {
   "cell_type": "markdown",
   "metadata": {},
   "source": [
    "Übung 1.2\n",
    "#########\n",
    "a) Fragen Sie den Benutzer nach einer Zahl. Geben Sie dann zurück, ob diese Zahl gerade oder\n",
    "ungerade ist.\n",
    "Bsp:\n",
    "> Bitte Zahl eingeben:\n",
    "4\n",
    "> Die Zahl 4 ist gerade.\n",
    "b) Geben Sie eine andere Nachricht aus, falls die Zahl ein Vielfaches von 4 ist."
   ]
  },
  {
   "cell_type": "code",
   "execution_count": null,
   "metadata": {},
   "outputs": [],
   "source": [
    "zahl = int(input(\"zahl?\"))\n",
    "if zahl % 2 == 0: #rest 0 wenn durch 2 geteilt\n",
    "    print(\"ist gerade\")\n",
    "else:\n",
    "    print(\"ist ungerade\")\n",
    "if zahl % 4 == 0:\n",
    "    print(\"ausserdem vielfaches von 4\")\n"
   ]
  },
  {
   "cell_type": "markdown",
   "metadata": {},
   "source": [
    "Übung 1.3\n",
    "#########\n",
    "a) Nehmen Sie eine Liste mit Zahlen. Beispielsweise diese:\n",
    "\n",
    "zahlen_liste = [1, 1, 2, 3, 5, 8, 13, 21, 34, 55, 89]\n",
    "Schreiben Sie ein Programm, dass alle Zahlen aus dieser Liste ausgibt, die kleiner 5 sind.\n",
    "b) Anstatt die Zahlen einzeln auszugeben, erstellen Sie eine neue Liste mit den Zahlen kleiner 5 und\n",
    "geben Sie die gesammte Liste aus.\n",
    "c) Fragen Sie den Benutzer nach einer Zahl und geben Sie dann nur die Zahlen von der Liste aus,\n",
    "die kleiner als die angegebene Zahl ist.\n",
    "d) Fragen Sie den Benutzer nach einer Zahl und dannach, ob die Zahlen ausgegeben werden sollen\n",
    "die grösser oder kleiner als der eingebenen Zahl sind."
   ]
  },
  {
   "cell_type": "code",
   "execution_count": null,
   "metadata": {},
   "outputs": [],
   "source": [
    "#aufgaben a und b\n",
    "zahlen_liste = [1, 1, 2, 3, 5, 8, 13, 21, 34, 55, 89]\n",
    "kleinezahlen = []\n",
    "for zahl in zahlen_liste:\n",
    "    if zahl < 5:\n",
    "        kleinezahlen.append(zahl)\n",
    "print(kleinezahlen)"
   ]
  },
  {
   "cell_type": "code",
   "execution_count": null,
   "metadata": {},
   "outputs": [],
   "source": [
    "#aufgaben c und d\n",
    "zahl_eingabe = int(input(\"zahl?\"))\n",
    "operator = input(\"zahlen 'grösser' oder 'kleiner' als angegebene zahl?\")\n",
    "zahlen_liste = [1, 1, 2, 3, 5, 8, 13, 21, 34, 55, 89]\n",
    "kleinezahlen = []\n",
    "grossezahlen = []\n",
    "if operator == \"kleiner\":\n",
    "    for zahl in zahlen_liste:\n",
    "        if zahl < zahl_eingabe:\n",
    "            kleinezahlen.append(zahl)\n",
    "    print(kleinezahlen)\n",
    "elif  operator == \"grösser\":\n",
    "    for zahl in zahlen_liste:\n",
    "        if zahl > zahl_eingabe:\n",
    "            grossezahlen.append(zahl)\n",
    "    print(grossezahlen)"
   ]
  },
  {
   "cell_type": "markdown",
   "metadata": {},
   "source": [
    "Übung 1.4\n",
    "#########\n",
    "Schreiben Sie ein Programm, dass den Benutzer nach einer Zahl fragt und dann alle Zahlen\n",
    "zurückgibt, dass durch die die Zahl ohne Rest dividiert werden kann.\n",
    "Bsp:\n",
    "> Geben Sie eine Zahl ein:\n",
    "42\n",
    ">1, 2, 3, 6, 7, 14, 21, 42"
   ]
  },
  {
   "cell_type": "code",
   "execution_count": null,
   "metadata": {},
   "outputs": [],
   "source": [
    "zahl_eingabe = int(input(\"zahl?\"))\n",
    "teiler = []\n",
    "for i in range(1,(1 + zahl_eingabe)): #shift range by 1 to avoid /0 division\n",
    "    if zahl_eingabe % i == 0:\n",
    "        teiler.append(i)\n",
    "print(teiler)"
   ]
  },
  {
   "cell_type": "markdown",
   "metadata": {},
   "source": [
    "Übung 1.5\n",
    "#########\n",
    "a) Nehmen Sie zwei Listen. Beispielsweise:\n",
    "liste_a = [1, 1, 2, 3, 5, 8, 13, 21, 34, 55, 89]\n",
    "liste_b = [1, 2, 3, 4, 5, 6, 7, 8, 9, 10, 11, 12, 13]\n",
    "Schreiben Sie ein Programm, dass nur die Zahlen ausgibt, die in beiden Listen vorhanden sind. Es\n",
    "sollen jedoch keine Duplikate vorkommen.\n",
    "b) Schreiben Sie ein Programm, dass nur die Zahlen ausgibt, die nur in der einen oder in der\n",
    "anderen Liste vorkommen."
   ]
  },
  {
   "cell_type": "code",
   "execution_count": null,
   "metadata": {},
   "outputs": [],
   "source": [
    "#a)\n",
    "liste_a = [1, 1, 2, 3, 5, 8, 13, 21, 34, 55, 89]\n",
    "liste_b = [1, 2, 3, 4, 5, 6, 7, 8, 9, 10, 11, 12, 13]\n",
    "set_c = set()\n",
    "for zahl in liste_a:\n",
    "    if zahl in liste_b:\n",
    "        set_c.add(zahl)\n",
    "for zahl in liste_b:\n",
    "    if zahl in liste_a:\n",
    "        set_c.add(zahl)\n",
    "print(set_c)"
   ]
  },
  {
   "cell_type": "code",
   "execution_count": null,
   "metadata": {},
   "outputs": [],
   "source": [
    "#b)\n",
    "liste_a = [1, 1, 2, 3, 5, 8, 13, 21, 34, 55, 89]\n",
    "liste_b = [1, 2, 3, 4, 5, 6, 7, 8, 9, 10, 11, 12, 13]\n",
    "set_c = set()\n",
    "for zahl in liste_a:\n",
    "    if zahl not in liste_b:\n",
    "        set_c.add(zahl)\n",
    "for zahl in liste_b:\n",
    "    if zahl not in liste_a:\n",
    "        set_c.add(zahl)\n",
    "print(set_c)"
   ]
  },
  {
   "cell_type": "code",
   "execution_count": null,
   "metadata": {},
   "outputs": [],
   "source": [
    "#nach cheatsheet\n",
    "liste_a = [1, 1, 2, 3, 5, 8, 13, 21, 34, 55, 89]\n",
    "liste_b = [1, 2, 3, 4, 5, 6, 7, 8, 9, 10, 11, 12, 13]\n",
    "\n",
    "gemeinsame_elemente = set(liste_a).intersection(set(liste_b))\n",
    "print(gemeinsame_elemente)\n",
    "\n",
    "einzigartige_elemente = set(liste_a).symmetric_difference(set(liste_b))\n",
    "print(einzigartige_elemente)\n"
   ]
  },
  {
   "cell_type": "markdown",
   "metadata": {},
   "source": [
    "Übung 1.6\n",
    "#########\n",
    "Schreiben Sie ein Programm, dass ein Wort entgegen nimmt und zurück gibt, ob das Wort ein\n",
    "Palindrom ist oder nicht (ein Palindrom liest sich von vorne und von hinten gleich: ABBA)"
   ]
  },
  {
   "cell_type": "code",
   "execution_count": null,
   "metadata": {},
   "outputs": [],
   "source": [
    "wort = input(\"wort?\")\n",
    "if wort == wort[::-1]: #start stop step in liste, -1 ist retour\n",
    "    print(\"ist palindrom\")\n"
   ]
  },
  {
   "cell_type": "markdown",
   "metadata": {},
   "source": [
    "Übung 1.7\n",
    "#########\n",
    "\n",
    "a) Schreiben Sie ein Programm, dass eine zufällige Zahl zwischen 1 und 10 generiert und dann denn\n",
    "Benutzer raten lässt, um welche Zahl es sich handelt. Wenn der Benutzer eine falsche Zahl\n",
    "eingegeben hat, gibt das Programm zurück, ob er zu hoch oder zu niedrig geraten hat.\n",
    "Falls er richtig geraten hat bekommt er eine entsprechende Nachricht.\n",
    "Hilfestellung: eine zufällige Zahl zwischen 2 und 6 erstellen Sie mit\n",
    "zufallszahl = random.randint(2, 6)\n",
    "Importieren Sie das benötigte Modul mit:\n",
    "import random\n",
    "b) Erweitern sie das Programm, sodass es zum Schluss ausgibt, wie oft der Benutzer falsch geraten\n",
    "hat."
   ]
  },
  {
   "cell_type": "code",
   "execution_count": null,
   "metadata": {},
   "outputs": [],
   "source": [
    "import random\n",
    "\n",
    "random_number = random.randint(1, 10)\n",
    "guesses = 0\n",
    "\n",
    "while True:\n",
    "    user_guess = int(input(\"Guess the number 1-10: \"))\n",
    "\n",
    "    if user_guess == random_number:\n",
    "        print(\"nice\")\n",
    "        break\n",
    "    elif user_guess < random_number:\n",
    "        print(\"too low\")\n",
    "        guesses += 1\n",
    "    else:\n",
    "        print(\"too high\")\n",
    "        guesses += 1\n",
    "\n",
    "print(\"Number of incorrect guesses: \", guesses)"
   ]
  },
  {
   "cell_type": "markdown",
   "metadata": {},
   "source": [
    "Übung 1.8\n",
    "#########\n",
    "a) Schreiben Sie ein eine Funktion, die eine beliebige Liste von Wörtern entgegen nimmt und die\n",
    "doppelten Wörter aus der Liste entfernt. Die entduplizierte Liste soll dann zurück gegeben werden.\n",
    "b) Erweitern Sie die Funktion sodass doppelte Wörter entfernt werden und dabei nicht auf die\n",
    "Gross- und Kleinschreibung geachtet wird.\n",
    "c) Erweitern Sie Aufgabe b um eine Benutzereingabe bei der der Benutzer nach einer wörterliste\n",
    "gefragt wird und im die bereinigte Liste dann zurückgegeben wird."
   ]
  },
  {
   "cell_type": "code",
   "execution_count": null,
   "metadata": {},
   "outputs": [],
   "source": [
    "def removeDuplicates(text):\n",
    "    text = text.lower()\n",
    "    inputlist = text.split()\n",
    "    worddict = {}\n",
    "    wordlist = []\n",
    "    for word in inputlist:\n",
    "        if word in worddict:\n",
    "            worddict[word] += 1\n",
    "        else:\n",
    "            worddict[word] = 1\n",
    "    for word in worddict:\n",
    "        if worddict[word] < 2:\n",
    "            wordlist.append(word)\n",
    "    return wordlist\n",
    "\n",
    "text = \"Übung 1.8a) Schreiben Sie ein eine Funktion, die eine beliebige Liste von Wörtern entgegen nimmt und diedoppelten Wörter aus der Liste entfernt. Die entduplizierte Liste soll dann zurück gegeben werden.b) Erweitern Sie die Funktion sodass doppelte Wörter entfernt werden und dabei nicht auf dieGross- und Kleinschreibung geachtet wird.c) Erweitern Sie Aufgabe b um eine Benutzereingabe bei der der Benutzer nach einer wörterlisteefragt wird und im die bereinigte Liste dann zurückgegeben wird.\"\n",
    "\n",
    "print(removeDuplicates(text))"
   ]
  },
  {
   "cell_type": "markdown",
   "metadata": {},
   "source": [
    "Übung 1.9\n",
    "#########\n",
    "a) Schreiben Sie eine Funktion, die einen Text entgegen nimmt und zurück gibt, wie viele Wörter in\n",
    "dem Text vorkommen.\n",
    "b) Schreiben Sie eine Funktion, die einen Text entgegen nimmt und die Anzahl der Sätze zurück\n",
    "gibt.\n",
    "c) Schreiben Sie eine Funktion, die einen Text entgegen nimmt und der am meisten benutzter\n",
    "Buchstabe (mit Anzahl) zurückgibt."
   ]
  },
  {
   "cell_type": "code",
   "execution_count": null,
   "metadata": {},
   "outputs": [],
   "source": [
    "#a)\n",
    "text = \"Übung 1.9 a) Schreiben Sie eine Funktion, die einen Text entgegen nimmt und zurück gibt, wie viele Wörter indem Text vorkommen.b) Schreiben Sie eine Funktion, die einen Text entgegen nimmt und die Anzahl der Sätze zurückgibt.c) Schreiben Sie eine Funktion, die einen Text entgegen nimmt und der am meisten benutzterBuchstabe (mit Anzahl) zurückgibt.\"\n",
    "wörterliste = text.split()\n",
    "print(len(wörterliste))"
   ]
  },
  {
   "cell_type": "code",
   "execution_count": null,
   "metadata": {},
   "outputs": [],
   "source": [
    "#b)\n",
    "text = \"Übung 1.9 a) Schreiben Sie eine Funktion, die einen Text entgegen nimmt und zurück gibt, wie viele Wörter indem Text vorkommen.b) Schreiben Sie eine Funktion, die einen Text entgegen nimmt und die Anzahl der Sätze zurückgibt.c) Schreiben Sie eine Funktion, die einen Text entgegen nimmt und der am meisten benutzterBuchstabe (mit Anzahl) zurückgibt.\"\n",
    "satzliste = text.split(\".\")\n",
    "print(len(satzliste))"
   ]
  },
  {
   "cell_type": "code",
   "execution_count": 4,
   "metadata": {},
   "outputs": [
    {
     "name": "stdout",
     "output_type": "stream",
     "text": [
      "Max Key: 61\n",
      "Max Value: S\n"
     ]
    }
   ],
   "source": [
    "#c)\n",
    "text = \"Übung 1.9 a) SSSSSSSSSSSSSSSSSSSSSSSSSSSSSSSSSSSSSSSSSSSSSSSSSSSSSSSchreiben Sie eine Funktion, die einen Text entgegen nimmt und zurück gibt, wie viele Wörter indem Text vorkommen.b) Schreiben Sie eine Funktion, die einen Text entgegen nimmt und die Anzahl der Sätze zurückgibt.c) Schreiben Sie eine Funktion, die einen Text entgegen nimmt und der am meisten benutzterBuchstabe (mit Anzahl) zurückgibt.\"\n",
    "charlist = list(text)\n",
    "chardict = {}\n",
    "for char in charlist:\n",
    "    if char not in chardict:\n",
    "        chardict[char] = 1\n",
    "    else:\n",
    "        chardict[char] +=1\n",
    "\n",
    "max_value = max(chardict, key=chardict.get) #isch in keinera vorläsig und nid ufem sheet, glaub kama ignoriera...\n",
    "max_key = chardict[max_value] # jeda buachstaba isch nu eimol vorhanda drum isch easy wema anhand em value suacht\n",
    "print(\"Max Key:\", max_key)\n",
    "print(\"Max Value:\", max_value)"
   ]
  },
  {
   "cell_type": "markdown",
   "metadata": {},
   "source": [
    "Übung 1.10\n",
    "##########\n",
    "a) Schreiben Sie eine Funktion, die einen Text entgegen nimmt und einen Text zurück gibt, von dem\n",
    "folgende Sonderzeichen entfernt wurden:\n",
    "! ? . , : ; _\n",
    "b) Erweitern Sie die Funktion sodass Umlaute umgewandelt werden:\n",
    "ä -> ae\n",
    "ö -> oe\n",
    "ü -> ue"
   ]
  },
  {
   "cell_type": "code",
   "execution_count": null,
   "metadata": {},
   "outputs": [],
   "source": [
    "text = input(\"Gib einen Text ein\")\n",
    "def clenser(text):\n",
    "    text = text.replace(\"!\",\"\").replace(\"?\",\"\").replace(\".\",\"\").replace(\",\",\"\").replace(\":\",\"\").replace(\":\",\"\").replace(\"-\",\"\").replace(\"ä\",\"ae\").replace(\"ö\",\"oe\").replace(\"ü\",\"ue\")\n",
    "    return text\n",
    "print(clenser(text))"
   ]
  },
  {
   "cell_type": "markdown",
   "metadata": {},
   "source": [
    "Übung 1.11\n",
    "##########\n",
    "a) Schreiben Sie eine Funktion die ein die den Benutzer nach folgenden Daten abfrägt und diese\n",
    "dann in ein dict speichert:\n",
    "Name\n",
    "Geburtstag\n",
    "Wohnort\n",
    "Beruf\n",
    "Das dict soll zum Schluss ausgegeben werden.\n",
    "b) Erweitern Sie das Programm sodass das dict formatiert ausgegeben wird.\n",
    "Bsp:\n",
    "Name: ...\n",
    "Geburtstag: ...\n",
    "...\n",
    "c) Erweitern Sie das Programm sodass der Benutzer mehrere Datensätze eingeben kann. Nach jeder\n",
    "Eingabe soll der Benutzer gefragt werden, ob er einen weiteren Datensatz eingeben möchte oder ob\n",
    "er die Eingabe beenden möchte und die Datensätze somit ausgegeben werden sollen.\n",
    "d) Implementieren Sie eine Funktion, die dem Benutzer erlaubt, im Datensatz nach einer Person zu\n",
    "suchen um die dazugehörenden Daten zu erhalten."
   ]
  },
  {
   "cell_type": "code",
   "execution_count": null,
   "metadata": {},
   "outputs": [],
   "source": [
    "kontaktdict = {\n",
    "    \"Berset\":{\"geburtstag\": \"heute\" , \"wohnort\":\"idk\" , \"beruf\":\"raver\"}\n",
    "    }\n",
    "def search(name):\n",
    "    printlist = []\n",
    "    if name in kontaktdict:\n",
    "        printlist.append(\"name: \" + name)\n",
    "        for key, value in kontaktdict[name].items():\n",
    "            printlist.append(key + \": \" + value)\n",
    "    else:\n",
    "        printlist.append(\"Name not found.\")\n",
    "    return printlist\n",
    "\n",
    "def enter(name, geburtstag, wohnort, beruf):\n",
    "    kontaktdict[name] = {\"geburtstag\": geburtstag , \"wohnort\":wohnort , \"beruf\":beruf}\n",
    "    return search(name)\n",
    "\n",
    "mode = input(\"möchtest du einen namen suchen oder erfassen? (s/e)\")\n",
    "\n",
    "if mode == \"s\":\n",
    "    name = input(\"gib einen namen ein um danach zu suchen\")\n",
    "    print(search(name))\n",
    "\n",
    "elif mode == \"e\":\n",
    "    while True:\n",
    "        name = input(\"gib einen namen ein\")\n",
    "        geburtstag = input(\"gib einen geburtstag ein\")\n",
    "        wohnort = input(\"gib einen wohnort ein\")\n",
    "        beruf = input(\"gib einen beruf ein\")\n",
    "        print(enter(name, geburtstag, wohnort, beruf))\n",
    "        if input(\"möchstest du einen weiteren kontakt erfassen? (y/n)\") == \"n\":\n",
    "            break\n",
    "\n",
    "print(kontaktdict)"
   ]
  }
 ],
 "metadata": {
  "kernelspec": {
   "display_name": "Python 3",
   "language": "python",
   "name": "python3"
  },
  "language_info": {
   "codemirror_mode": {
    "name": "ipython",
    "version": 3
   },
   "file_extension": ".py",
   "mimetype": "text/x-python",
   "name": "python",
   "nbconvert_exporter": "python",
   "pygments_lexer": "ipython3",
   "version": "3.11.5"
  }
 },
 "nbformat": 4,
 "nbformat_minor": 2
}
