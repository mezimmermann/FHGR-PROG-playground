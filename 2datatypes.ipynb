{
 "cells": [
  {
   "cell_type": "markdown",
   "metadata": {},
   "source": [
    "Übung 1\n",
    "Gegeben ist:\n",
    "\n",
    "random = ['a', ('b', 'cd'), [3, 4]]\n",
    "Wählen Sie mittel Index (liste[x]) folgendes aus:\n",
    "\n",
    "1. [3, 4]\n",
    "2. a\n",
    "3. 4\n",
    "4. b\n",
    "5. d\n",
    "6. 'cd'"
   ]
  },
  {
   "cell_type": "code",
   "execution_count": null,
   "metadata": {},
   "outputs": [],
   "source": [
    "random = ['a', ('b', 'cd'), [3, 4]]\n",
    "print(random[2])\n",
    "print(random[0])\n",
    "print(random[2][1])\n",
    "print(random[1][0])\n",
    "print(random[1][1][1])\n",
    "print(random[1][1])"
   ]
  },
  {
   "cell_type": "markdown",
   "metadata": {},
   "source": [
    "Übung 2\n",
    "Gegeben ist:\n",
    "list = ['larry', 'curly', 'moe']\n",
    "\n",
    "Fügen Sie \"shemp\" zur Ende der Liste hinzu.\n",
    "Fügen Sie \"xxx\" an Index 0 ein.\n",
    "Fügen Sie die Liste ['yyy', 'zzz'] am Ende der Liste hinzu.\n",
    "Suchen und entfernen Sie den Eintrag 'curly'."
   ]
  },
  {
   "cell_type": "code",
   "execution_count": null,
   "metadata": {},
   "outputs": [],
   "source": [
    "list = ['larry', 'curly', 'moe']\n",
    "list.extend(['shemp'])\n",
    "list.insert(0,'xxx')\n",
    "list.extend([['zzz','zzz']])\n",
    "list.remove('curly')\n",
    "\n",
    "print(list)"
   ]
  }
 ],
 "metadata": {
  "kernelspec": {
   "display_name": "Python 3",
   "language": "python",
   "name": "python3"
  },
  "language_info": {
   "codemirror_mode": {
    "name": "ipython",
    "version": 3
   },
   "file_extension": ".py",
   "mimetype": "text/x-python",
   "name": "python",
   "nbconvert_exporter": "python",
   "pygments_lexer": "ipython3",
   "version": "3.11.5"
  }
 },
 "nbformat": 4,
 "nbformat_minor": 2
}
