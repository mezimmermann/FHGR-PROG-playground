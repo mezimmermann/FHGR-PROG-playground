{
 "cells": [
  {
   "cell_type": "markdown",
   "metadata": {},
   "source": [
    "1.1 Person:\n",
    "Verwenden Sie ein Wörterbuch, um Daten über eine Person zu speichern, die Sie kennen.\n",
    "Speichern Sie deren Vornamen, Nachnamen, Alter und die Stadt, in der sie lebt. Sie\n",
    "sollte dazu Schlüssel wie Vorname, Nachname, Alter und Stadt verwenden. Geben Sie die Daten die im Dictionary gespeichert sind schön formatiert aus.\n",
    "\n",
    "\n",
    "\n",
    "1.2 Glossar:\n",
    "Ein Python-Wörterbuch kann verwendet werden, um ein aktuelles Wörterbuch zu modellieren.\n",
    "\n",
    "Um Verwirrung zu vermeiden, nennen wir es jedoch ein Glossar.\n",
    "\n",
    "Denken Sie an fünf Programmierwörter, die Sie in letzter Zeit gelernt haben. Verwenden Sie diese Begriffe als Schlüssel in Ihrem Glossar und speichern Sie sie. Als Wert soll die Bedeutung bzw Erklärung des Begriffs dienen.\n",
    "\n",
    "Drucken Sie jedes Wort und seine Bedeutung als ordentlich formatierte Ausgabe. Du könntest\n",
    "\n",
    "Drucken Sie die Begriffe schön formatiert aus. \n",
    "\n",
    "\n",
    "\n",
    "1.3 Funktion:\n",
    "Schreiben Sie eine Funktion, die ein Begriff entgegen nimmt und dessen Bedeutung/Erklärung zurück gibt.\n",
    "\n",
    "\n",
    "\n",
    "\n",
    "1.4 Erweitern:\n",
    "Überlegen Sie sich, welche zusätzlichen Inhalte in so einem Eintrag möglich oder interessant wären."
   ]
  },
  {
   "cell_type": "code",
   "execution_count": null,
   "metadata": {},
   "outputs": [],
   "source": [
    "peter = {\n",
    "    \"name\": \"peter\",\n",
    "    \"nachname\": \"müller\",\n",
    "    \"alter\": \"69\",\n",
    "    \"stadt\": \"chur\"\n",
    "}\n",
    "for keys,values in peter.items():\n",
    "    print(keys, values)"
   ]
  },
  {
   "cell_type": "code",
   "execution_count": null,
   "metadata": {},
   "outputs": [],
   "source": [
    "peter = {\n",
    "    \"print:\": \"print variables\",\n",
    "    \"str:\": \"to string method\",\n",
    "    \"int:\": \"to int method\"\n",
    "}\n",
    "def lookup(index):\n",
    "    for wert,erklärung in peter.items():\n",
    "        if index == wert:\n",
    "            print(wert,erklärung)\n",
    "index = input(\"gib ein wort ein\")\n",
    "lookup(index)"
   ]
  }
 ],
 "metadata": {
  "kernelspec": {
   "display_name": "Python 3",
   "language": "python",
   "name": "python3"
  },
  "language_info": {
   "codemirror_mode": {
    "name": "ipython",
    "version": 3
   },
   "file_extension": ".py",
   "mimetype": "text/x-python",
   "name": "python",
   "nbconvert_exporter": "python",
   "pygments_lexer": "ipython3",
   "version": "3.11.5"
  }
 },
 "nbformat": 4,
 "nbformat_minor": 2
}
