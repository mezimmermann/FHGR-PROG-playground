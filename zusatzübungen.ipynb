{
 "cells": [
  {
   "cell_type": "markdown",
   "metadata": {},
   "source": [
    "Loops\n",
    "Wir schreiben nun eine Funktion ausgabe1000(), die 1000\n",
    "mal den Satz \"Heute scheint die Sonne\" ausgibt!"
   ]
  },
  {
   "cell_type": "code",
   "execution_count": null,
   "metadata": {},
   "outputs": [],
   "source": [
    "anzahl = int(input(\"Wie oft?\"))\n",
    "def sonnenprint(anzahl):\n",
    "    for i in range(anzahl):\n",
    "        print(\"Heute scheint die Sonne\")\n",
    "sonnenprint(anzahl)"
   ]
  },
  {
   "cell_type": "markdown",
   "metadata": {},
   "source": [
    "If Statement\n",
    "Wir schreiben eine Funktion ausgabeWetter(wetter), die\n",
    "abhängig von dem Parameter wetter (\"Sonne\" oder \"Regen\")\n",
    "den Satz \"Heute scheint die Sonne\" oder \"Heute regnet es\"\n",
    "ausgibt!\n",
    "Erweitern Sie die Funktion um die Wetterlagen \"Schnee\",\n",
    "\"Nebel\" und \"Hagel\"!"
   ]
  },
  {
   "cell_type": "code",
   "execution_count": null,
   "metadata": {},
   "outputs": [],
   "source": [
    "wetter = input(\"Welches wetter ist heute?\")\n",
    "def ausgabeWetter(wetter):\n",
    "    if wetter == \"Sonne\":\n",
    "        return \"Heute scheint die sonne\"\n",
    "    elif wetter == \"Regen\":\n",
    "        return \"Heute regenet es\"\n",
    "    elif wetter == \"Hagel\":\n",
    "        return \"Heute hagelt es\"\n",
    "    elif wetter == \"Nebel\":\n",
    "        return \"Heute ist es neblig\"\n",
    "print(ausgabeWetter(wetter))"
   ]
  },
  {
   "cell_type": "markdown",
   "metadata": {},
   "source": [
    "Liste\n",
    "Verändern Sie die Funktion notendurchschnitt(...) aus ad hoc\n",
    "2.4, so dass nur der Eingangsparameter \"name\" und eine Zahl\n",
    "übergeben wird. Die Funktion soll dann die Noten (Zahl-mal) von\n",
    "der Person unter \"name\" erfragen und als Rückgabewert eine\n",
    "Liste mit dem Namen, den Einzelnoten und der Durchschnittsnote\n",
    "zurückgeben.\n",
    "Bsp.:\n",
    "notendurchschnitt(\"Max Mustermann\", 6)\n",
    "Max Mustermann, Note 1: 4\n",
    "Max Mustermann, Note 2: 5.5\n",
    "...\n",
    "Max Mustermann, Note 6: 4.5\n",
    "Max Mustermann, Noten: 4, 5.5, ..., 4.5, Notendurchschnitt: 4.83"
   ]
  },
  {
   "cell_type": "code",
   "execution_count": null,
   "metadata": {},
   "outputs": [],
   "source": []
  },
  {
   "cell_type": "code",
   "execution_count": null,
   "metadata": {},
   "outputs": [],
   "source": [
    "#help from copilot, ka was sini funktion damals het könna, referenz fählt, cause üabig isch us 2014(!)...\n",
    "notendb = {}\n",
    "\n",
    "def notenrechner(name, note):\n",
    "    if name not in notendb:\n",
    "        notendb[name] = []\n",
    "\n",
    "    if note == \"x\":\n",
    "        noten_liste = notendb[name]\n",
    "        durchschnitt = sum(noten_liste) / len(noten_liste) if noten_liste else 0\n",
    "        return noten_liste, durchschnitt\n",
    "\n",
    "    notendb[name].append(float(note))\n",
    "\n",
    "while True:\n",
    "    name = input(\"Name? (Beenden mit 'x')\")\n",
    "    if name.lower() == \"x\":\n",
    "        break\n",
    "\n",
    "    note = input(\"Note für \" + name + \"? (Beenden mit 'x')\")\n",
    "    if note.lower() == \"x\":\n",
    "        noten_liste, durchschnitt = notenrechner(name, note)\n",
    "        print(\"Noten für\", name, \":\", noten_liste)\n",
    "        print(\"Durchschnitt für\", name, \":\", durchschnitt)\n",
    "    else:\n",
    "        notenrechner(name, note)\n"
   ]
  },
  {
   "cell_type": "markdown",
   "metadata": {},
   "source": [
    "Zusatzübung Slicer\n",
    "Wir erstellen eine Funktion slicer(text), welches einen Text\n",
    "(String) als Parameter bekommt und eine Liste mit den Wörtern\n",
    "aus Text zurückgibt. Wir gehen davon aus, dass die Wörter im\n",
    "Text immer mit einem Leerzeichen (\" \") getrennt sind.\n",
    "Bsp.: text = 'hallo hier bin ich '\n",
    "print(slicer(text))\n",
    "['hallo', 'hier', 'bin', 'ich']"
   ]
  },
  {
   "cell_type": "code",
   "execution_count": null,
   "metadata": {},
   "outputs": [],
   "source": [
    "satz = input(\"Gib ein satz ein\")\n",
    "def slicer(satz):\n",
    "    liste = satz.split()\n",
    "    print(liste)\n",
    "slicer(satz)"
   ]
  },
  {
   "cell_type": "markdown",
   "metadata": {},
   "source": [
    "Zusatzübung Indexer\n",
    "Erstellen Sie eine Funktion wordFrequency(text), welches\n",
    "einen Text (String) als Parameter bekommt und ein Dictionary\n",
    "zurückgibt, welches alle Wörter aus Text (=key) und deren\n",
    "Häufigkeit (=value) zurückgibt.\n",
    "Bsp.: text = 'wenn fliegen hinter fliegen fliegen fliegen fliegen\n",
    "\n",
    "fliegen hinterher '\n",
    "print(wordFrequency(text))\n",
    "{'wenn':1, 'fliegen':6, 'hinter':2, 'her':1}\n",
    "Benutzen Sie dabei die Funktion slicer(text)!!!"
   ]
  },
  {
   "cell_type": "code",
   "execution_count": null,
   "metadata": {},
   "outputs": [],
   "source": [
    "worddict = {}\n",
    "text = \"wenn fliegen hinter fliegen fliegen fliegen fliegen\"\n",
    "def wordcounter(text):\n",
    "    wordlist = text.split()\n",
    "    for word in wordlist:\n",
    "        if word not in worddict:\n",
    "            worddict[word]= 1\n",
    "        else:\n",
    "            worddict[word] += 1\n",
    "    print(worddict)\n",
    "wordcounter(text)"
   ]
  },
  {
   "cell_type": "markdown",
   "metadata": {},
   "source": [
    "Zusatzübung Dictionary\n",
    "Wir entwerfen ein Dictionary, das jeden Buchstaben aus dem\n",
    "Alphabet \"abcdefghijklmnopqrstuvwxyz\" als Key verwendet und\n",
    "als Wert jeweils den Buchstaben aus der umgekehrten\n",
    "Reihenfolge des Alphabets zuweist, d.h. a:z, b:y, c:x usw.\n",
    "a) Schreiben Sie ein Programm, bei dem ein Text eingegeben\n",
    "wird und dieser dann mit Hilfe des erstellten Dictionary\n",
    "codiert wieder ausgegeben wird\n",
    "b) Senden Sie sich gegenseitig Emails mit einer codierten\n",
    "Nachricht und entschlüsseln Sie diese\n",
    "c) Entwerfen Sie eine eigene Codierung"
   ]
  },
  {
   "cell_type": "code",
   "execution_count": null,
   "metadata": {},
   "outputs": [],
   "source": [
    "reverse_dict = {chr(97+i): chr(122-i) for i in range(26)} #copilot but still interesting\n",
    "text = \"roadcycling is the best sport\"\n",
    "revcharlist = []\n",
    "revtext = \"\"\n",
    "\n",
    "def coder(text):\n",
    "    for char in text:\n",
    "        revchar = reverse_dict.get(char, char)\n",
    "        revcharlist.append(revchar)\n",
    "    revtext = ''.join(revcharlist)\n",
    "    print(revtext)\n",
    "\n",
    "def decoder(revtext):\n",
    "    revcharlist = []\n",
    "    for char in text:\n",
    "        revchar = reverse_dict.get(char, char)\n",
    "        revcharlist.append(revchar)\n",
    "    revtext = ''.join(revcharlist)\n",
    "    print(text)\n",
    "\n",
    "coder(text)\n",
    "decoder(revtext)"
   ]
  }
 ],
 "metadata": {
  "kernelspec": {
   "display_name": "Python 3",
   "language": "python",
   "name": "python3"
  },
  "language_info": {
   "name": "python",
   "version": "3.11.5"
  }
 },
 "nbformat": 4,
 "nbformat_minor": 2
}
