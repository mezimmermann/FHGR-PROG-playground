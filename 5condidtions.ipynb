{
 "cells": [
  {
   "cell_type": "markdown",
   "metadata": {},
   "source": [
    "1.  Gerade und Ungerade\n",
    "\n",
    "Schreiben Sie ein Programm, das eine ganze Zahl vom Benutzer liest. Dann sollte Ihr Programm eine Meldung anzeigen, die angibt, ob die ganze Zahl gerade oder ungerade ist."
   ]
  },
  {
   "cell_type": "code",
   "execution_count": 1,
   "metadata": {},
   "outputs": [
    {
     "name": "stdout",
     "output_type": "stream",
     "text": [
      "Nummer 7 ist ungerade\n"
     ]
    }
   ],
   "source": [
    "def check(number):\n",
    "    if (number % 2) == 0: #Modulo is the remainder of a division, when dividing by 2, odd numbers do have a reminder other than 0\n",
    "        print(\"Nummer \"+str(number)+\" ist gerade\")\n",
    "    else:\n",
    "        print(\"Nummer \"+str(number)+\" ist ungerade\")\n",
    "number = int(input(\"Gib eine nummer ein\"))\n",
    "check(number)"
   ]
  },
  {
   "cell_type": "markdown",
   "metadata": {},
   "source": [
    "2. Hundejahre\n",
    "\n",
    "Es wird allgemein gesagt, dass ein Menschenjahr 7 Hundejahren entspricht. Diese einfache Umwandlung übersieht jedoch, dass Hunde in etwa zwei Jahren das Erwachsenenalter erreichen. Infolgedessen glauben einige Leute, dass es besser ist, jedes der ersten beiden Menschenjahre als 10,5 Hundejahre zu zählen und dann jedes weitere Menschenjahr als 4 Hundejahre.\n",
    "\n",
    "Schreiben Sie ein Programm, das die im vorherigen Abschnitt beschriebene Umstellung von Menschenjahren auf Hundejahre implementiert. Stellen Sie sicher, dass Ihr Programm bei Konvertierungen von weniger als zwei Menschenjahren und bei Konvertierungen von zwei oder mehr Menschenjahren korrekt funktioniert. Ihr Programm sollte eine entsprechende Fehlermeldung anzeigen, wenn der Benutzer eine negative Zahl eingibt."
   ]
  },
  {
   "cell_type": "code",
   "execution_count": 9,
   "metadata": {},
   "outputs": [
    {
     "name": "stdout",
     "output_type": "stream",
     "text": [
      "35\n"
     ]
    }
   ],
   "source": [
    "def hund(alter):\n",
    "    if alter < 0:\n",
    "        print(\"Alter kann nicht negativ sein\")\n",
    "    elif alter < 2:\n",
    "        hundejahre = 10.5*alter\n",
    "        print(hundejahre)\n",
    "    else:\n",
    "        hundejahre = (alter-2)*7+21\n",
    "        print(hundejahre)\n",
    "alter = int(input(\"Gib dein Alter ein:\"))\n",
    "hund(alter)"
   ]
  },
  {
   "cell_type": "markdown",
   "metadata": {},
   "source": [
    "3. Vokale\n",
    "\n",
    "In dieser Übung erstellen Sie ein Programm, das einen Buchstaben des Alphabets vom Benutzer einliest. Wenn der Benutzer ein, e, i, o oder u eingibt, sollte Ihr Programm eine Meldung anzeigen die darauf hindeutet, dass der eingegebene Buchstabe ein Vokal ist.\n",
    "\n",
    "Wenn der Benutzer y eingibt, dann sollte Ihr Programm eine Meldung anzeigen, dass  y manchmal ein Vokal ist und manchmal y ein Konsonant ist."
   ]
  },
  {
   "cell_type": "code",
   "execution_count": 15,
   "metadata": {},
   "outputs": [
    {
     "name": "stdout",
     "output_type": "stream",
     "text": [
      "Der Buchstabe ist ein Vokabel\n"
     ]
    }
   ],
   "source": [
    "buchstabe = input(\"Gib deinen Buchstaben ein\")\n",
    "vokabeln = ['a', 'e', 'i', 'o', 'u', 'A', 'E', 'I', 'O', 'U']\n",
    "if buchstabe in (\"y\",\"Y\"):\n",
    "    print(\"Manchmal\")\n",
    "elif buchstabe in vokabeln:\n",
    "    print(\"Der Buchstabe ist ein Vokabel\")\n",
    "else:\n",
    "    print(\"Der Buchstabe ist ein Konsonant\")"
   ]
  }
 ],
 "metadata": {
  "kernelspec": {
   "display_name": "Python 3",
   "language": "python",
   "name": "python3"
  },
  "language_info": {
   "codemirror_mode": {
    "name": "ipython",
    "version": 3
   },
   "file_extension": ".py",
   "mimetype": "text/x-python",
   "name": "python",
   "nbconvert_exporter": "python",
   "pygments_lexer": "ipython3",
   "version": "3.11.5"
  }
 },
 "nbformat": 4,
 "nbformat_minor": 2
}
