{
 "cells": [
  {
   "cell_type": "markdown",
   "metadata": {},
   "source": [
    "zeichnen sie ein 5 eck mit jeder seite eine andere farbe"
   ]
  },
  {
   "cell_type": "code",
   "execution_count": null,
   "metadata": {},
   "outputs": [],
   "source": [
    "import turtle as t\n",
    "\n",
    "def paintside():\n",
    "    t.fd(100)\n",
    "    t.rt(72)\n",
    "\n",
    "t.pd()\n",
    "t.pencolor(\"red\")\n",
    "paintside()\n",
    "t.pencolor(\"blue\")\n",
    "paintside()\n",
    "t.pencolor(\"green\")\n",
    "paintside()\n",
    "t.pencolor(\"yellow\")\n",
    "paintside()\n",
    "t.pencolor(\"orange\")\n",
    "paintside()\n",
    "t.done()"
   ]
  },
  {
   "cell_type": "markdown",
   "metadata": {},
   "source": [
    "schreiben sie ein programm, welches von 10 nach 0 zählt und in der hälfte \"jetzt sind wir in der hälfte\" ausgibt"
   ]
  },
  {
   "cell_type": "code",
   "execution_count": null,
   "metadata": {},
   "outputs": [],
   "source": [
    "for i in range(10,-1,-1):\n",
    "    if i == 5: print(\"jetzt sind wir in der hälfte\")\n",
    "    else: print(i)"
   ]
  }
 ],
 "metadata": {
  "kernelspec": {
   "display_name": "Python 3",
   "language": "python",
   "name": "python3"
  },
  "language_info": {
   "codemirror_mode": {
    "name": "ipython",
    "version": 3
   },
   "file_extension": ".py",
   "mimetype": "text/x-python",
   "name": "python",
   "nbconvert_exporter": "python",
   "pygments_lexer": "ipython3",
   "version": "3.11.5"
  }
 },
 "nbformat": 4,
 "nbformat_minor": 2
}
