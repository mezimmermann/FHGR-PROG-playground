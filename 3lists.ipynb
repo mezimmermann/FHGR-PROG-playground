{
 "cells": [
  {
   "cell_type": "markdown",
   "metadata": {},
   "source": [
    "1.1 Namen\n",
    "Speichern Sie die Namen einiger Ihrer Freunde in einer Liste mit Namen. Drucken Sie den Namen jeder Person, indem Sie nacheinander auf jedes Element in der Liste zugreifen.\n",
    "\n",
    "1.2 Seid gegrüsst\n",
    "Beginnen Sie mit der Liste, die Sie in Übung 1.1 verwendet haben: Begrüssen Sie jede Person mit einer personalisierten Nachricht.\n",
    "\n",
    "1.3 Funktion\n",
    "Erstellen Sie eine Funktion die eine Liste von Personen enthält. Die Funktion nimmt dann denn Index einer spezifischen Person als Argument und begrüsst dann die spezifische Person.\n",
    "\n",
    "Beispiel:\n",
    "\n",
    "grüsse(3) #-> Hallo Fabian\n",
    "\n",
    "grüsse(1) #-> Hallo Norman"
   ]
  },
  {
   "cell_type": "code",
   "execution_count": null,
   "metadata": {},
   "outputs": [],
   "source": [
    "#dict\n",
    "friends = {\n",
    "    \"men\": \"hello\",\n",
    "    \"lea\": \"hi\",\n",
    "    \"mia\": \"ciao\",\n",
    "}\n",
    "def gruss(eingabe):\n",
    "    for name, gruss in friends.items():\n",
    "        if eingabe == name:\n",
    "            print(gruss,name)\n",
    "eingabe = input(\"gib einen namen an\")\n",
    "gruss(eingabe)"
   ]
  },
  {
   "cell_type": "code",
   "execution_count": null,
   "metadata": {},
   "outputs": [],
   "source": [
    "# list\n",
    "friends = [\"men\", \"lea\", \"mia\"]\n",
    "\n",
    "def gruss(eingabe):\n",
    "    name = friends[eingabe]\n",
    "    print(\"Hallo\", name)\n",
    "eingabe = int(input(\"Gib einen Index an: \"))\n",
    "gruss(eingabe)"
   ]
  }
 ],
 "metadata": {
  "kernelspec": {
   "display_name": "Python 3",
   "language": "python",
   "name": "python3"
  },
  "language_info": {
   "codemirror_mode": {
    "name": "ipython",
    "version": 3
   },
   "file_extension": ".py",
   "mimetype": "text/x-python",
   "name": "python",
   "nbconvert_exporter": "python",
   "pygments_lexer": "ipython3",
   "version": "3.11.5"
  }
 },
 "nbformat": 4,
 "nbformat_minor": 2
}
