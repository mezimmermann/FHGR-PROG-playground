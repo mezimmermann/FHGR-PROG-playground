{
 "cells": [
  {
   "cell_type": "markdown",
   "metadata": {},
   "source": [
    "Übung 1.1\n",
    "#########\n",
    "a) Schreiben Sie ein Programm, dass nach dem Namen und dem Alter der Person fragt und dann in\n",
    "einer personalisierten Mitteilung der Person mitteilt, in welchem Jahr sie 100 Jahre alt wird.\n",
    "Bsp:\n",
    "> Bitte gib deinen Namen ein.\n",
    "Fabian\n",
    "> Bitte gib dein Alter an.\n",
    "25\n",
    "> Fabian, du wirst im Jahre 2092 100 Jahre alt sein.\n",
    "b) Erweitern Sie das Programm in dem Sie den Benutzer um eine zusätzliche Zahl bitten die die\n",
    "Anzahl der Ausgaben der Nachricht definiert.\n",
    "Bsp:\n",
    "> Wie oft soll die Nachricht ausgegeben werden?\n",
    "3\n",
    "> Fabian, du wirst im Jahre 2092 100 Jahre alt sein. Fabian, du wirst im Jahre 2092 100 Jahre alt\n",
    "sein. Fabian, du wirst im Jahre 2092 100 Jahre alt sein.\n",
    "c) Geben Sie die wiederholenden Ausgaben in separaten Zeilen aus.\n",
    "Bsp:\n",
    "> Wie oft soll die Nachricht ausgegeben werden?\n",
    "3\n",
    "> Fabian, du wirst im Jahre 2092 100 Jahre alt sein.\n",
    "> Fabian, du wirst im Jahre 2092 100 Jahre alt sein.\n",
    "> Fabian, du wirst im Jahre 2092 100 Jahre alt sein."
   ]
  },
  {
   "cell_type": "code",
   "execution_count": null,
   "metadata": {},
   "outputs": [],
   "source": []
  },
  {
   "cell_type": "markdown",
   "metadata": {},
   "source": [
    "Übung 1.2\n",
    "#########\n",
    "a) Fragen Sie den Benutzer nach einer Zahl. Geben Sie dann zurück, ob diese Zahl gerade oder\n",
    "ungerade ist.\n",
    "Bsp:\n",
    "> Bitte Zahl eingeben:\n",
    "4\n",
    "> Die Zahl 4 ist gerade.\n",
    "b) Geben Sie eine andere Nachricht aus, falls die Zahl ein Vielfaches von 4 ist."
   ]
  },
  {
   "cell_type": "code",
   "execution_count": null,
   "metadata": {},
   "outputs": [],
   "source": []
  },
  {
   "cell_type": "markdown",
   "metadata": {},
   "source": [
    "Übung 1.3\n",
    "#########\n",
    "a) Nehmen Sie eine Liste mit Zahlen. Beispielsweise diese:\n",
    "\n",
    "zahlen_liste = [1, 1, 2, 3, 5, 8, 13, 21, 34, 55, 89]\n",
    "Schreiben Sie ein Programm, dass alle Zahlen aus dieser Liste ausgibt, die kleiner 5 sind.\n",
    "b) Anstatt die Zahlen einzeln auszugeben, erstellen Sie eine neue Liste mit den Zahlen kleiner 5 und\n",
    "geben Sie die gesammte Liste aus.\n",
    "c) Fragen Sie den Benutzer nach einer Zahl und geben Sie dann nur die Zahlen von der Liste aus,\n",
    "die kleiner als die angegebene Zahl ist.\n",
    "d) Fragen Sie den Benutzer nach einer Zahl und dannach, ob die Zahlen ausgegeben werden sollen\n",
    "die grösser oder kleiner als der eingebenen Zahl sind."
   ]
  },
  {
   "cell_type": "code",
   "execution_count": null,
   "metadata": {},
   "outputs": [],
   "source": []
  },
  {
   "cell_type": "code",
   "execution_count": null,
   "metadata": {},
   "outputs": [],
   "source": []
  },
  {
   "cell_type": "markdown",
   "metadata": {},
   "source": [
    "Übung 1.4\n",
    "#########\n",
    "Schreiben Sie ein Programm, dass den Benutzer nach einer Zahl fragt und dann alle Zahlen\n",
    "zurückgibt, dass durch die die Zahl ohne Rest dividiert werden kann.\n",
    "Bsp:\n",
    "> Geben Sie eine Zahl ein:\n",
    "42\n",
    ">1, 2, 3, 6, 7, 14, 21, 42"
   ]
  },
  {
   "cell_type": "code",
   "execution_count": null,
   "metadata": {},
   "outputs": [],
   "source": []
  },
  {
   "cell_type": "markdown",
   "metadata": {},
   "source": [
    "Übung 1.5\n",
    "#########\n",
    "a) Nehmen Sie zwei Listen. Beispielsweise:\n",
    "liste_a = [1, 1, 2, 3, 5, 8, 13, 21, 34, 55, 89]\n",
    "liste_b = [1, 2, 3, 4, 5, 6, 7, 8, 9, 10, 11, 12, 13]\n",
    "Schreiben Sie ein Programm, dass nur die Zahlen ausgibt, die in beiden Listen vorhanden sind. Es\n",
    "sollen jedoch keine Duplikate vorkommen.\n",
    "b) Schreiben Sie ein Programm, dass nur die Zahlen ausgibt, die nur in der einen oder in der\n",
    "anderen Liste vorkommen."
   ]
  },
  {
   "cell_type": "code",
   "execution_count": null,
   "metadata": {},
   "outputs": [],
   "source": []
  },
  {
   "cell_type": "code",
   "execution_count": null,
   "metadata": {},
   "outputs": [],
   "source": []
  },
  {
   "cell_type": "code",
   "execution_count": null,
   "metadata": {},
   "outputs": [],
   "source": []
  },
  {
   "cell_type": "markdown",
   "metadata": {},
   "source": [
    "Übung 1.6\n",
    "#########\n",
    "Schreiben Sie ein Programm, dass ein Wort entgegen nimmt und zurück gibt, ob das Wort ein\n",
    "Palindrom ist oder nicht (ein Palindrom liest sich von vorne und von hinten gleich: ABBA)"
   ]
  },
  {
   "cell_type": "code",
   "execution_count": null,
   "metadata": {},
   "outputs": [],
   "source": []
  },
  {
   "cell_type": "markdown",
   "metadata": {},
   "source": [
    "Übung 1.7\n",
    "#########\n",
    "\n",
    "a) Schreiben Sie ein Programm, dass eine zufällige Zahl zwischen 1 und 10 generiert und dann denn\n",
    "Benutzer raten lässt, um welche Zahl es sich handelt. Wenn der Benutzer eine falsche Zahl\n",
    "eingegeben hat, gibt das Programm zurück, ob er zu hoch oder zu niedrig geraten hat.\n",
    "Falls er richtig geraten hat bekommt er eine entsprechende Nachricht.\n",
    "Hilfestellung: eine zufällige Zahl zwischen 2 und 6 erstellen Sie mit\n",
    "zufallszahl = random.randint(2, 6)\n",
    "Importieren Sie das benötigte Modul mit:\n",
    "import random\n",
    "b) Erweitern sie das Programm, sodass es zum Schluss ausgibt, wie oft der Benutzer falsch geraten\n",
    "hat."
   ]
  },
  {
   "cell_type": "code",
   "execution_count": null,
   "metadata": {},
   "outputs": [],
   "source": []
  },
  {
   "cell_type": "markdown",
   "metadata": {},
   "source": [
    "Übung 1.8\n",
    "#########\n",
    "a) Schreiben Sie ein eine Funktion, die eine beliebige Liste von Wörtern entgegen nimmt und die\n",
    "doppelten Wörter aus der Liste entfernt. Die entduplizierte Liste soll dann zurück gegeben werden.\n",
    "b) Erweitern Sie die Funktion sodass doppelte Wörter entfernt werden und dabei nicht auf die\n",
    "Gross- und Kleinschreibung geachtet wird.\n",
    "c) Erweitern Sie Aufgabe b um eine Benutzereingabe bei der der Benutzer nach einer wörterliste\n",
    "gefragt wird und im die bereinigte Liste dann zurückgegeben wird."
   ]
  },
  {
   "cell_type": "code",
   "execution_count": null,
   "metadata": {},
   "outputs": [],
   "source": []
  },
  {
   "cell_type": "markdown",
   "metadata": {},
   "source": [
    "Übung 1.9\n",
    "#########\n",
    "a) Schreiben Sie eine Funktion, die einen Text entgegen nimmt und zurück gibt, wie viele Wörter in\n",
    "dem Text vorkommen.\n",
    "b) Schreiben Sie eine Funktion, die einen Text entgegen nimmt und die Anzahl der Sätze zurück\n",
    "gibt.\n",
    "c) Schreiben Sie eine Funktion, die einen Text entgegen nimmt und der am meisten benutzter\n",
    "Buchstabe (mit Anzahl) zurückgibt."
   ]
  },
  {
   "cell_type": "code",
   "execution_count": null,
   "metadata": {},
   "outputs": [],
   "source": []
  },
  {
   "cell_type": "code",
   "execution_count": null,
   "metadata": {},
   "outputs": [],
   "source": []
  },
  {
   "cell_type": "code",
   "execution_count": null,
   "metadata": {},
   "outputs": [],
   "source": []
  },
  {
   "cell_type": "markdown",
   "metadata": {},
   "source": [
    "Übung 1.10\n",
    "##########\n",
    "a) Schreiben Sie eine Funktion, die einen Text entgegen nimmt und einen Text zurück gibt, von dem\n",
    "folgende Sonderzeichen entfernt wurden:\n",
    "! ? . , : ; _\n",
    "b) Erweitern Sie die Funktion sodass Umlaute umgewandelt werden:\n",
    "ä -> ae\n",
    "ö -> oe\n",
    "ü -> ue"
   ]
  },
  {
   "cell_type": "code",
   "execution_count": null,
   "metadata": {},
   "outputs": [],
   "source": []
  },
  {
   "cell_type": "markdown",
   "metadata": {},
   "source": [
    "Übung 1.11\n",
    "##########\n",
    "a) Schreiben Sie eine Funktion die ein die den Benutzer nach folgenden Daten abfrägt und diese\n",
    "dann in ein dict speichert:\n",
    "Name\n",
    "Geburtstag\n",
    "Wohnort\n",
    "Beruf\n",
    "Das dict soll zum Schluss ausgegeben werden.\n",
    "b) Erweitern Sie das Programm sodass das dict formatiert ausgegeben wird.\n",
    "Bsp:\n",
    "Name: ...\n",
    "Geburtstag: ...\n",
    "...\n",
    "c) Erweitern Sie das Programm sodass der Benutzer mehrere Datensätze eingeben kann. Nach jeder\n",
    "Eingabe soll der Benutzer gefragt werden, ob er einen weiteren Datensatz eingeben möchte oder ob\n",
    "er die Eingabe beenden möchte und die Datensätze somit ausgegeben werden sollen.\n",
    "d) Implementieren Sie eine Funktion, die dem Benutzer erlaubt, im Datensatz nach einer Person zu\n",
    "suchen um die dazugehörenden Daten zu erhalten."
   ]
  },
  {
   "cell_type": "code",
   "execution_count": null,
   "metadata": {},
   "outputs": [],
   "source": []
  }
 ],
 "metadata": {
  "kernelspec": {
   "display_name": "Python 3",
   "language": "python",
   "name": "python3"
  },
  "language_info": {
   "codemirror_mode": {
    "name": "ipython",
    "version": 3
   },
   "file_extension": ".py",
   "mimetype": "text/x-python",
   "name": "python",
   "nbconvert_exporter": "python",
   "pygments_lexer": "ipython3",
   "version": "3.11.5"
  }
 },
 "nbformat": 4,
 "nbformat_minor": 2
}
