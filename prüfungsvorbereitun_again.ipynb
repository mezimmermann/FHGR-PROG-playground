{
 "cells": [
  {
   "cell_type": "markdown",
   "metadata": {},
   "source": [
    "Übung 1.1\n",
    "#########\n",
    "a) Schreiben Sie ein Programm, dass nach dem Namen und dem Alter der Person fragt und dann in\n",
    "einer personalisierten Mitteilung der Person mitteilt, in welchem Jahr sie 100 Jahre alt wird.\n",
    "Bsp:\n",
    "> Bitte gib deinen Namen ein.\n",
    "Fabian\n",
    "> Bitte gib dein Alter an.\n",
    "25\n",
    "> Fabian, du wirst im Jahre 2092 100 Jahre alt sein.\n",
    "b) Erweitern Sie das Programm in dem Sie den Benutzer um eine zusätzliche Zahl bitten die die\n",
    "Anzahl der Ausgaben der Nachricht definiert.\n",
    "Bsp:\n",
    "> Wie oft soll die Nachricht ausgegeben werden?\n",
    "3\n",
    "> Fabian, du wirst im Jahre 2092 100 Jahre alt sein. Fabian, du wirst im Jahre 2092 100 Jahre alt\n",
    "sein. Fabian, du wirst im Jahre 2092 100 Jahre alt sein.\n",
    "c) Geben Sie die wiederholenden Ausgaben in separaten Zeilen aus.\n",
    "Bsp:\n",
    "> Wie oft soll die Nachricht ausgegeben werden?\n",
    "3\n",
    "> Fabian, du wirst im Jahre 2092 100 Jahre alt sein.\n",
    "> Fabian, du wirst im Jahre 2092 100 Jahre alt sein.\n",
    "> Fabian, du wirst im Jahre 2092 100 Jahre alt sein."
   ]
  },
  {
   "cell_type": "code",
   "execution_count": null,
   "metadata": {},
   "outputs": [],
   "source": []
  },
  {
   "cell_type": "markdown",
   "metadata": {},
   "source": [
    "Übung 1.2\n",
    "#########\n",
    "a) Fragen Sie den Benutzer nach einer Zahl. Geben Sie dann zurück, ob diese Zahl gerade oder\n",
    "ungerade ist.\n",
    "Bsp:\n",
    "> Bitte Zahl eingeben:\n",
    "4\n",
    "> Die Zahl 4 ist gerade.\n",
    "b) Geben Sie eine andere Nachricht aus, falls die Zahl ein Vielfaches von 4 ist."
   ]
  },
  {
   "cell_type": "code",
   "execution_count": null,
   "metadata": {},
   "outputs": [],
   "source": []
  },
  {
   "cell_type": "markdown",
   "metadata": {},
   "source": [
    "Übung 1.3\n",
    "#########\n",
    "a) Nehmen Sie eine Liste mit Zahlen. Beispielsweise diese:\n",
    "\n",
    "zahlen_liste = [1, 1, 2, 3, 5, 8, 13, 21, 34, 55, 89]\n",
    "Schreiben Sie ein Programm, dass alle Zahlen aus dieser Liste ausgibt, die kleiner 5 sind.\n",
    "b) Anstatt die Zahlen einzeln auszugeben, erstellen Sie eine neue Liste mit den Zahlen kleiner 5 und\n",
    "geben Sie die gesammte Liste aus.\n",
    "c) Fragen Sie den Benutzer nach einer Zahl und geben Sie dann nur die Zahlen von der Liste aus,\n",
    "die kleiner als die angegebene Zahl ist.\n",
    "d) Fragen Sie den Benutzer nach einer Zahl und dannach, ob die Zahlen ausgegeben werden sollen\n",
    "die grösser oder kleiner als der eingebenen Zahl sind."
   ]
  },
  {
   "cell_type": "code",
   "execution_count": 4,
   "metadata": {},
   "outputs": [
    {
     "name": "stdout",
     "output_type": "stream",
     "text": [
      "[1, 1, 2, 3]\n"
     ]
    }
   ],
   "source": [
    "zahlen_liste = [1, 1, 2, 3, 5, 8, 13, 21, 34, 55, 89]\n",
    "zahlen_kleiner_5 = []\n",
    "\n",
    "# a\n",
    "for zahl in zahlen_liste:\n",
    "    if zahl < 5:\n",
    "        zahlen_kleiner_5.append(zahl)\n",
    "print(zahlen_kleiner_5)"
   ]
  },
  {
   "cell_type": "code",
   "execution_count": 5,
   "metadata": {},
   "outputs": [
    {
     "ename": "ValueError",
     "evalue": "invalid literal for int() with base 10: ''",
     "output_type": "error",
     "traceback": [
      "\u001b[0;31m---------------------------------------------------------------------------\u001b[0m",
      "\u001b[0;31mValueError\u001b[0m                                Traceback (most recent call last)",
      "Cell \u001b[0;32mIn[5], line 3\u001b[0m\n\u001b[1;32m      1\u001b[0m zahlen_liste \u001b[38;5;241m=\u001b[39m [\u001b[38;5;241m1\u001b[39m, \u001b[38;5;241m1\u001b[39m, \u001b[38;5;241m2\u001b[39m, \u001b[38;5;241m3\u001b[39m, \u001b[38;5;241m5\u001b[39m, \u001b[38;5;241m8\u001b[39m, \u001b[38;5;241m13\u001b[39m, \u001b[38;5;241m21\u001b[39m, \u001b[38;5;241m34\u001b[39m, \u001b[38;5;241m55\u001b[39m, \u001b[38;5;241m89\u001b[39m]\n\u001b[0;32m----> 3\u001b[0m user_zahl \u001b[38;5;241m=\u001b[39m \u001b[38;5;28;43mint\u001b[39;49m\u001b[43m(\u001b[49m\u001b[38;5;28;43minput\u001b[39;49m\u001b[43m(\u001b[49m\u001b[38;5;124;43m\"\u001b[39;49m\u001b[38;5;124;43mBitte gib eine Zahl ein: \u001b[39;49m\u001b[38;5;124;43m\"\u001b[39;49m\u001b[43m)\u001b[49m\u001b[43m)\u001b[49m\n\u001b[1;32m      4\u001b[0m \u001b[38;5;28;01mfor\u001b[39;00m zahl \u001b[38;5;129;01min\u001b[39;00m zahlen_liste:\n\u001b[1;32m      5\u001b[0m     \u001b[38;5;28;01mif\u001b[39;00m zahl \u001b[38;5;241m<\u001b[39m user_zahl:\n",
      "\u001b[0;31mValueError\u001b[0m: invalid literal for int() with base 10: ''"
     ]
    }
   ],
   "source": [
    "zahlen_liste = [1, 1, 2, 3, 5, 8, 13, 21, 34, 55, 89]\n",
    "\n",
    "user_zahl = int(input(\"Bitte gib eine Zahl ein: \"))\n",
    "for zahl in zahlen_liste:\n",
    "    if zahl < user_zahl:\n",
    "        print(zahl)"
   ]
  },
  {
   "cell_type": "code",
   "execution_count": null,
   "metadata": {},
   "outputs": [],
   "source": [
    "zahlen_liste = [1, 1, 2, 3, 5, 8, 13, 21, 34, 55, 89]\n",
    "\n",
    "user_zahl = int(input(\"Bitte gib eine Zahl ein: \"))\n",
    "user_operator = input(\"Sollen die ausbegebenen Zahlen 'grösser' oder 'kleiner' sein: \")\n",
    "for zahl in zahlen_liste:\n",
    "    if user_operator == \"grösser\":\n",
    "        if zahl > user_zahl:\n",
    "            print(zahl)\n",
    "    elif user_operator == \"kleiner\":\n",
    "        if zahl < user_zahl:\n",
    "            print(zahl)\n",
    "    else:\n",
    "        print(\"\")\n",
    "\n"
   ]
  },
  {
   "cell_type": "markdown",
   "metadata": {},
   "source": [
    "Übung 1.4\n",
    "#########\n",
    "Schreiben Sie ein Programm, dass den Benutzer nach einer Zahl fragt und dann alle Zahlen\n",
    "zurückgibt, dass durch die die Zahl ohne Rest dividiert werden kann.\n",
    "Bsp:\n",
    "> Geben Sie eine Zahl ein:\n",
    "42\n",
    ">1, 2, 3, 6, 7, 14, 21, 42"
   ]
  },
  {
   "cell_type": "code",
   "execution_count": null,
   "metadata": {},
   "outputs": [],
   "source": []
  },
  {
   "cell_type": "markdown",
   "metadata": {},
   "source": [
    "Übung 1.5\n",
    "#########\n",
    "a) Nehmen Sie zwei Listen. Beispielsweise:\n",
    "liste_a = [1, 1, 2, 3, 5, 8, 13, 21, 34, 55, 89]\n",
    "liste_b = [1, 2, 3, 4, 5, 6, 7, 8, 9, 10, 11, 12, 13]\n",
    "Schreiben Sie ein Programm, dass nur die Zahlen ausgibt, die in beiden Listen vorhanden sind. Es\n",
    "sollen jedoch keine Duplikate vorkommen.\n",
    "b) Schreiben Sie ein Programm, dass nur die Zahlen ausgibt, die nur in der einen oder in der\n",
    "anderen Liste vorkommen."
   ]
  },
  {
   "cell_type": "code",
   "execution_count": null,
   "metadata": {},
   "outputs": [],
   "source": [
    "liste_a = [1, 1, 2, 3, 5, 8, 13, 21, 34, 55, 89]\n",
    "liste_b = [1, 2, 3, 4, 5, 6, 7, 8, 9, 10, 11, 12, 13]\n",
    "\n",
    "set1 = set(liste_a)\n",
    "set2 = set(liste_b)\n",
    "\n",
    "ibtersect = set1.intersection(set2)\n",
    "print(ibtersect)\n",
    "\n",
    "# b\n",
    "ibtersect = set1.difference(set2)\n",
    "print(ibtersect)\n"
   ]
  },
  {
   "cell_type": "markdown",
   "metadata": {},
   "source": [
    "Übung 1.6\n",
    "#########\n",
    "Schreiben Sie ein Programm, dass ein Wort entgegen nimmt und zurück gibt, ob das Wort ein\n",
    "Palindrom ist oder nicht (ein Palindrom liest sich von vorne und von hinten gleich: ABBA)"
   ]
  },
  {
   "cell_type": "code",
   "execution_count": null,
   "metadata": {},
   "outputs": [],
   "source": [
    "wort = input(\"Gib ein Wort ein: \")\n",
    "if wort == wort[::-1]:\n",
    "    print(\"Wort ist Palindrom\")\n",
    "else:\n",
    "    print(\"Wort ist kein Palindrom\")\n",
    "    "
   ]
  },
  {
   "cell_type": "markdown",
   "metadata": {},
   "source": [
    "Übung 1.7\n",
    "#########\n",
    "\n",
    "a) Schreiben Sie ein Programm, dass eine zufällige Zahl zwischen 1 und 10 generiert und dann denn\n",
    "Benutzer raten lässt, um welche Zahl es sich handelt. Wenn der Benutzer eine falsche Zahl\n",
    "eingegeben hat, gibt das Programm zurück, ob er zu hoch oder zu niedrig geraten hat.\n",
    "Falls er richtig geraten hat bekommt er eine entsprechende Nachricht.\n",
    "Hilfestellung: eine zufällige Zahl zwischen 2 und 6 erstellen Sie mit\n",
    "zufallszahl = random.randint(2, 6)\n",
    "Importieren Sie das benötigte Modul mit:\n",
    "import random\n",
    "b) Erweitern sie das Programm, sodass es zum Schluss ausgibt, wie oft der Benutzer falsch geraten\n",
    "hat."
   ]
  },
  {
   "cell_type": "code",
   "execution_count": null,
   "metadata": {},
   "outputs": [],
   "source": [
    "import random\n",
    "zufallszahl = random.randint(1,10)\n",
    "benutzer_zahl = 0\n",
    "anzahl_fehler = 0\n",
    "while benutzer_zahl != zufallszahl:\n",
    "    benutzer_zahl = int(input(\"Gib eine Zahl ein: \"))\n",
    "    anzahl_fehler +=1                                                   # +=1 Kurzform für + 1\n",
    "    if benutzer_zahl < zufallszahl:\n",
    "        print(\"Zahl ist höher\")\n",
    "    else:\n",
    "        print(\"Zahl ist tiefer\")\n",
    "print(\"anzahl Versuche= \"+str(anzahl_fehler) + \" Super\")\n",
    "\n",
    "\n",
    "\n",
    "\n"
   ]
  },
  {
   "cell_type": "markdown",
   "metadata": {},
   "source": [
    "Übung 1.8\n",
    "#########\n",
    "a) Schreiben Sie ein eine Funktion, die eine beliebige Liste von Wörtern entgegen nimmt und die\n",
    "doppelten Wörter aus der Liste entfernt. Die entduplizierte Liste soll dann zurück gegeben werden.\n",
    "b) Erweitern Sie die Funktion sodass doppelte Wörter entfernt werden und dabei nicht auf die\n",
    "Gross- und Kleinschreibung geachtet wird.\n",
    "c) Erweitern Sie Aufgabe b um eine Benutzereingabe bei der der Benutzer nach einer wörterliste\n",
    "gefragt wird und im die bereinigte Liste dann zurückgegeben wird."
   ]
  },
  {
   "cell_type": "code",
   "execution_count": 8,
   "metadata": {},
   "outputs": [
    {
     "name": "stdout",
     "output_type": "stream",
     "text": [
      "{'men', 'sina', 'noa'}\n"
     ]
    }
   ],
   "source": [
    "#liste = [\"apfel\", \"Apfel\", \"banane\",\"apfel\", \"birnen\", \"tomate\", \"tomate\"]\n",
    "\n",
    "listelower = []\n",
    "def duplikate_entfernen(liste_raw):\n",
    "    liste = liste_raw.split()\n",
    "    for word  in liste:\n",
    "        wordlower = word.lower()\n",
    "        listelower.append(wordlower)\n",
    "    set_a = set(listelower)\n",
    "    return set_a\n",
    "liste_raw = input(\"gib liste\")\n",
    "print(duplikate_entfernen(liste_raw))\n"
   ]
  },
  {
   "cell_type": "markdown",
   "metadata": {},
   "source": [
    "Übung 1.9\n",
    "#########\n",
    "a) Schreiben Sie eine Funktion, die einen Text entgegen nimmt und zurück gibt, wie viele Wörter in\n",
    "dem Text vorkommen.\n",
    "b) Schreiben Sie eine Funktion, die einen Text entgegen nimmt und die Anzahl der Sätze zurück\n",
    "gibt.\n",
    "c) Schreiben Sie eine Funktion, die einen Text entgegen nimmt und der am meisten benutzter\n",
    "Buchstabe (mit Anzahl) zurückgibt."
   ]
  },
  {
   "cell_type": "code",
   "execution_count": null,
   "metadata": {},
   "outputs": [],
   "source": [
    "#a)\n"
   ]
  },
  {
   "cell_type": "code",
   "execution_count": null,
   "metadata": {},
   "outputs": [],
   "source": [
    "#b)\n"
   ]
  },
  {
   "cell_type": "code",
   "execution_count": null,
   "metadata": {},
   "outputs": [],
   "source": [
    "#c)\n"
   ]
  },
  {
   "cell_type": "markdown",
   "metadata": {},
   "source": [
    "Übung 1.10\n",
    "##########\n",
    "a) Schreiben Sie eine Funktion, die einen Text entgegen nimmt und einen Text zurück gibt, von dem\n",
    "folgende Sonderzeichen entfernt wurden:\n",
    "! ? . , : ; _\n",
    "b) Erweitern Sie die Funktion sodass Umlaute umgewandelt werden:\n",
    "ä -> ae\n",
    "ö -> oe\n",
    "ü -> ue"
   ]
  },
  {
   "cell_type": "code",
   "execution_count": null,
   "metadata": {},
   "outputs": [],
   "source": []
  },
  {
   "cell_type": "markdown",
   "metadata": {},
   "source": [
    "Übung 1.11\n",
    "##########\n",
    "a) Schreiben Sie eine Funktion die ein die den Benutzer nach folgenden Daten abfrägt und diese\n",
    "dann in ein dict speichert:\n",
    "Name\n",
    "Geburtstag\n",
    "Wohnort\n",
    "Beruf\n",
    "Das dict soll zum Schluss ausgegeben werden.\n",
    "b) Erweitern Sie das Programm sodass das dict formatiert ausgegeben wird.\n",
    "Bsp:\n",
    "Name: ...\n",
    "Geburtstag: ...\n",
    "...\n",
    "c) Erweitern Sie das Programm sodass der Benutzer mehrere Datensätze eingeben kann. Nach jeder\n",
    "Eingabe soll der Benutzer gefragt werden, ob er einen weiteren Datensatz eingeben möchte oder ob\n",
    "er die Eingabe beenden möchte und die Datensätze somit ausgegeben werden sollen.\n",
    "d) Implementieren Sie eine Funktion, die dem Benutzer erlaubt, im Datensatz nach einer Person zu\n",
    "suchen um die dazugehörenden Daten zu erhalten."
   ]
  },
  {
   "cell_type": "code",
   "execution_count": null,
   "metadata": {},
   "outputs": [],
   "source": []
  }
 ],
 "metadata": {
  "kernelspec": {
   "display_name": "Python 3",
   "language": "python",
   "name": "python3"
  },
  "language_info": {
   "codemirror_mode": {
    "name": "ipython",
    "version": 3
   },
   "file_extension": ".py",
   "mimetype": "text/x-python",
   "name": "python",
   "nbconvert_exporter": "python",
   "pygments_lexer": "ipython3",
   "version": "3.11.5"
  }
 },
 "nbformat": 4,
 "nbformat_minor": 2
}
