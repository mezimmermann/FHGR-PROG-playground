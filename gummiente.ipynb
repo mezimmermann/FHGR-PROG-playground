{
 "cells": [
  {
   "cell_type": "markdown",
   "metadata": {},
   "source": [
    "1 Bestellung\n",
    "\n",
    "Schreiben Sie eine Funktion bestellung() die die Kosten einer\n",
    "Badeenten Bestellung berechnet.\n",
    "Dabei soll die Funktion mit dem Parameter anzahl die Anzahl der zu bestellenden\n",
    "Badeenten entgegen nehmen (nicht input()) und der Preis der Bestellung ausgeben.\n",
    "Eine Badeente kostet 5 Franken.\n",
    "\n",
    "2 Versandkosten\n",
    "\n",
    "Erweitern Sie die Funktion bestellung()  um den Parameter land.\n",
    "Falls land \"schweiz\" ist, ist der Versand der Badeenten kostenlos.\n",
    "Falls land jedoch \"ausland\" ist, so kostet der Versand der Badeenten 3 Franken.\n",
    "\n",
    "3 Farbe\n",
    "\n",
    "Bauen Sie in die Funktion ein Menü ein, dass die Auswahl der Farbe der Badeenten erlaubt. Die unterschiedlichen Farben haben unterschiedliche Preise.\n",
    "\n",
    "gelb kostet 5 Franken\n",
    "grün kostet 7 Franken\n",
    "pink kostet 9 Franken\n",
    "\n",
    "Die Funktion sollte mittels input() die Auswahl des Users entgegennehmen indem der Benutzer die die Menüzahl der gewünschten Farbe eingibt. Dabei bezieht sich die Farbauswahl auf alle bestellten Badeenten (nur eine Farbe pro Bestellung)."
   ]
  },
  {
   "cell_type": "code",
   "execution_count": null,
   "metadata": {},
   "outputs": [],
   "source": [
    "#variables\n",
    "prices = {\n",
    "    \"green\": 5,\n",
    "    \"blue\" : 6,\n",
    "    \"red\" : 7\n",
    "    }\n",
    "anzahl = 5\n",
    "available = \", \".join(prices.keys())\n",
    "\n",
    "#functions\n",
    "def bestellung(color, land, anzahl):\n",
    "    total = anzahl * prices[color]\n",
    "    if land.lower() != \"schweiz\":\n",
    "        total = total + 3\n",
    "    return total\n",
    "#procedure\n",
    "\n",
    "#anzahl = input(\"how many do you want?\")\n",
    "color = input(f\"what color do you want? there are {available} use each individual menu item code.\")\n",
    "land = input(\"where should we ship the ducks to? e.g. use 'schweiz' as format\")\n",
    "print(f\"thanks for your order of {anzahl} Ducks colored {color} for {prices[color]} CHF each. The total is: {bestellung(color, land, anzahl)} CHF\")"
   ]
  },
  {
   "cell_type": "code",
   "execution_count": 2,
   "metadata": {},
   "outputs": [
    {
     "name": "stdout",
     "output_type": "stream",
     "text": [
      "thanks for your order of 5 Ducks. The total  is: 25 CHF\n"
     ]
    }
   ],
   "source": [
    "#gemäss odoni ohne dict:\n",
    "anzahl = 5\n",
    "preis = 0\n",
    "\n",
    "def bestellung(color, land, anzahl):\n",
    "    if color == 1:\n",
    "        preis = 5\n",
    "    elif color == 2:\n",
    "        preis = 6\n",
    "    elif color == 3:\n",
    "        preis = 7\n",
    "\n",
    "    total = anzahl * preis\n",
    "\n",
    "    if land.lower() != \"schweiz\":\n",
    "        total = total + 3\n",
    "    return total\n",
    "\n",
    "color = int(input(f\"what color do you want? choose number: 1: green, 2: red, 3: blue\"))\n",
    "land = input(\"where should we ship the ducks to? e.g. use 'schweiz' as format\")\n",
    "print(f\"thanks for your order of {anzahl} Ducks. The total  is: {bestellung(color, land, anzahl)} CHF\")"
   ]
  }
 ],
 "metadata": {
  "kernelspec": {
   "display_name": "Python 3",
   "language": "python",
   "name": "python3"
  },
  "language_info": {
   "codemirror_mode": {
    "name": "ipython",
    "version": 3
   },
   "file_extension": ".py",
   "mimetype": "text/x-python",
   "name": "python",
   "nbconvert_exporter": "python",
   "pygments_lexer": "ipython3",
   "version": "3.11.5"
  }
 },
 "nbformat": 4,
 "nbformat_minor": 2
}
