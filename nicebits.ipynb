{
 "cells": [
  {
   "cell_type": "code",
   "execution_count": 2,
   "metadata": {},
   "outputs": [],
   "source": [
    "#currentdate\n",
    "import datetime\n",
    "today = datetime.date.today()\n",
    "year = today.year"
   ]
  },
  {
   "cell_type": "code",
   "execution_count": null,
   "metadata": {},
   "outputs": [],
   "source": [
    "#modulo\n",
    "if (number % 2) == 0:"
   ]
  },
  {
   "cell_type": "code",
   "execution_count": null,
   "metadata": {},
   "outputs": [],
   "source": [
    "#iterate trough dict\n",
    "for name, gruss in friends.items():"
   ]
  },
  {
   "cell_type": "code",
   "execution_count": null,
   "metadata": {},
   "outputs": [],
   "source": [
    "#wile True/break:\n",
    "while True:\n",
    "    stadt = input(\"Bitte geben Sie eine Stadt ein: \")\n",
    "    if stadt.loweer() == \"x\":\n",
    "        break"
   ]
  },
  {
   "cell_type": "code",
   "execution_count": null,
   "metadata": {},
   "outputs": [],
   "source": [
    "#clock\n",
    "wochentage = [\"Mo\",\"Di\",\"Mi\",\"Do\",\"Fr\",\"Sa\",\"So\"]\n",
    "for i in wochentage:\n",
    "    for stunden in range(24):\n",
    "        for minuten in range(60):\n",
    "            for sekunden in range(60):\n",
    "                print(i,stunden,minuten,sekunden)"
   ]
  },
  {
   "cell_type": "code",
   "execution_count": null,
   "metadata": {},
   "outputs": [],
   "source": [
    "#set values of key in dict\n",
    "haufen = {}\n",
    "\n",
    "sugus_sack = [\"Kirsche\", \"Orange\", \"Zitrone\", \"Himbeer\", \"Apfel\", \"Orange\"]\n",
    "\n",
    "for sugus in sugus_sack:\n",
    "    if sugus not in haufen:\n",
    "        haufen[sugus] = 0\n",
    "    haufen[sugus] += 1\n",
    "\n",
    "print(haufen)"
   ]
  },
  {
   "cell_type": "code",
   "execution_count": null,
   "metadata": {},
   "outputs": [],
   "source": [
    "#access pairs in nested dict\n",
    "if name in adressbuch:\n",
    "    entscheid = input(\"Treffer! Möchtest du den ganzen Datensatz, oder nur einzelne Felder einsehen? (y/n)\")\n",
    "    if entscheid == \"y\":\n",
    "        for key, value in adressbuch[name].items():\n",
    "            print(key, value)\n",
    "    else:\n",
    "        feld = input(\"Gib das gewünschte Feld an\")\n",
    "        trefferFeld = adressbuch[name][feld]\n",
    "        print(\"Es gab einen Treffer für den eingegebenen Namen \" + name + \". Der Inhalt des gewünschten Feldes \" + feld + \" ist: \" + trefferFeld)\n",
    "else:\n",
    "    print(\"Es gab keinen Treffer\")"
   ]
  },
  {
   "cell_type": "code",
   "execution_count": null,
   "metadata": {},
   "outputs": [],
   "source": [
    "#join strings with seperator\n",
    "preisliste = {\n",
    "    \"gelb\": 5,\n",
    "    \"grün\": 7,\n",
    "    \"pink\": 9\n",
    "    }\n",
    "allefarben = ', '.join(preisliste.keys())"
   ]
  },
  {
   "cell_type": "code",
   "execution_count": null,
   "metadata": {},
   "outputs": [],
   "source": [
    "#formated string\n",
    "print(f\"thanks for your order of {anzahl} Ducks. The total  is: {bestellung(color, land, anzahl)} CHF\")"
   ]
  },
  {
   "cell_type": "code",
   "execution_count": null,
   "metadata": {},
   "outputs": [],
   "source": [
    "#reverse\n",
    "for i in range(10,-1,-1):\n",
    "    if i == 5: print(\"jetzt sind wir in der hälfte\")\n",
    "    else: print(i)"
   ]
  },
  {
   "cell_type": "code",
   "execution_count": null,
   "metadata": {},
   "outputs": [],
   "source": [
    "#list to sect and intersection\n",
    "gemeinsame_elemente = set(liste_a).intersection(set(liste_b))"
   ]
  },
  {
   "cell_type": "code",
   "execution_count": null,
   "metadata": {},
   "outputs": [],
   "source": [
    "#chain of replaces\n",
    "    text = text.replace(\"!\",\"\").replace(\"?\",\"\").replace(\".\",\"\").replace(\",\",\"\").replace(\":\",\"\").replace(\":\",\"\").replace(\"-\",\"\").replace(\"ä\",\"ae\").replace(\"ö\",\"oe\").replace(\"ü\",\"ue\")\n"
   ]
  },
  {
   "cell_type": "code",
   "execution_count": null,
   "metadata": {},
   "outputs": [],
   "source": [
    "#max_key, max_value\n",
    "text = \"Übung 1.9 a) Schreiben Sie eine Funktion, die einen Text entgegen nimmt und zurück gibt, wie viele Wörter indem Text vorkommen.b) Schreiben Sie eine Funktion, die einen Text entgegen nimmt und die Anzahl der Sätze zurückgibt.c) Schreiben Sie eine Funktion, die einen Text entgegen nimmt und der am meisten benutzterBuchstabe (mit Anzahl) zurückgibt.\"\n",
    "charlist = list(text)\n",
    "chardict = {}\n",
    "for char in charlist:\n",
    "    if char not in chardict:\n",
    "        chardict[char] = 1\n",
    "    else:\n",
    "        chardict[char] +=1\n",
    "\n",
    "max_value = max(chardict, key=chardict.get) #isch in keinera vorläsig und nid ufem sheet, glaub kama ignoriera...\n",
    "max_key = chardict[max_value]\n",
    "print(\"Max Key:\", max_key)\n",
    "print(\"Max Value:\", max_value)"
   ]
  },
  {
   "cell_type": "code",
   "execution_count": null,
   "metadata": {},
   "outputs": [],
   "source": [
    "#nesteddict set and retrieve values\n",
    "kontaktdict = {\n",
    "    \"Berset\":{\"geburtstag\": \"heute\" , \"wohnort\":\"idk\" , \"beruf\":\"raver\"}\n",
    "    }\n",
    "def search(name):\n",
    "    printlist = []\n",
    "    if name in kontaktdict:\n",
    "        printlist.append(\"name: \" + name)\n",
    "        for key, value in kontaktdict[name].items():\n",
    "            printlist.append(key + \": \" + value)\n",
    "    else:\n",
    "        printlist.append(\"Name not found.\")\n",
    "    return printlist\n",
    "\n",
    "def enter(name, geburtstag, wohnort, beruf):\n",
    "    kontaktdict[name] = {\"geburtstag\": geburtstag , \"wohnort\":wohnort , \"beruf\":beruf}\n",
    "    return search(name)\n",
    "\n",
    "mode = input(\"möchtest du einen namen suchen oder erfassen? (s/e)\")\n",
    "\n",
    "if mode == \"s\":\n",
    "    name = input(\"gib einen namen ein um danach zu suchen\")\n",
    "    print(search(name))\n",
    "\n",
    "elif mode == \"e\":\n",
    "    while True:\n",
    "        name = input(\"gib einen namen ein\")\n",
    "        geburtstag = input(\"gib einen geburtstag ein\")\n",
    "        wohnort = input(\"gib einen wohnort ein\")\n",
    "        beruf = input(\"gib einen beruf ein\")\n",
    "        print(enter(name, geburtstag, wohnort, beruf))\n",
    "        if input(\"möchstest du einen weiteren kontakt erfassen? (y/n)\") == \"n\":\n",
    "            break\n",
    "\n",
    "print(kontaktdict)"
   ]
  },
  {
   "cell_type": "code",
   "execution_count": null,
   "metadata": {},
   "outputs": [],
   "source": [
    "#round to 0.05\n",
    "round(number * 20) / 20"
   ]
  }
 ],
 "metadata": {
  "kernelspec": {
   "display_name": "Python 3",
   "language": "python",
   "name": "python3"
  },
  "language_info": {
   "codemirror_mode": {
    "name": "ipython",
    "version": 3
   },
   "file_extension": ".py",
   "mimetype": "text/x-python",
   "name": "python",
   "nbconvert_exporter": "python",
   "pygments_lexer": "ipython3",
   "version": "3.11.5"
  }
 },
 "nbformat": 4,
 "nbformat_minor": 2
}
